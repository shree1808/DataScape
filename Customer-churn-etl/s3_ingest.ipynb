{
 "cells": [
  {
   "cell_type": "code",
   "execution_count": 1,
   "metadata": {},
   "outputs": [],
   "source": [
    "import boto3\n",
    "import pyspark.sql.functions \n",
    "from pyspark.sql import SparkSession\n",
    "import pandas as pd\n",
    "import matplotlib.pyplot as plt\n",
    "import seaborn as sns"
   ]
  },
  {
   "cell_type": "code",
   "execution_count": 2,
   "metadata": {},
   "outputs": [],
   "source": [
    "from pyspark.sql.functions import *"
   ]
  },
  {
   "cell_type": "code",
   "execution_count": 17,
   "metadata": {},
   "outputs": [],
   "source": [
    "# Configurtion of the S3 Bucket\n",
    "s3 = boto3.resource(\n",
    "    service_name = 's3',\n",
    "    region_name = 'eu-west-1',\n",
    "    aws_access_key_id = '',\n",
    "    aws_secret_access_key = ''\n",
    ")"
   ]
  },
  {
   "cell_type": "code",
   "execution_count": 18,
   "metadata": {},
   "outputs": [
    {
     "name": "stdout",
     "output_type": "stream",
     "text": [
      "etl-customer-churn\n"
     ]
    }
   ],
   "source": [
    "# Buckets available\n",
    "for bucket in s3.buckets.all():\n",
    "    print(bucket.name)"
   ]
  },
  {
   "cell_type": "code",
   "execution_count": 6,
   "metadata": {},
   "outputs": [],
   "source": [
    "# Create a Spark Session\n",
    "spark = SparkSession.builder.appName('etl-workflow-01').getOrCreate()\n",
    "\n",
    "# creating a spark dataframe\n",
    "churn_data = spark.read.csv('Data//train.csv', header = True, inferSchema = True)"
   ]
  },
  {
   "cell_type": "code",
   "execution_count": 7,
   "metadata": {},
   "outputs": [
    {
     "name": "stdout",
     "output_type": "stream",
     "text": [
      "+----------+------------------+------------------+----------------+----------------+----------------+-----------+-----------------+----------------+-------------------+----------------------+------------------------+---------------+------------------+----------------------+------+-------------+---------------+----------------+----------+-----+\n",
      "|AccountAge|    MonthlyCharges|      TotalCharges|SubscriptionType|   PaymentMethod|PaperlessBilling|ContentType|MultiDeviceAccess|DeviceRegistered|ViewingHoursPerWeek|AverageViewingDuration|ContentDownloadsPerMonth|GenrePreference|        UserRating|SupportTicketsPerMonth|Gender|WatchlistSize|ParentalControl|SubtitlesEnabled|CustomerID|Churn|\n",
      "+----------+------------------+------------------+----------------+----------------+----------------+-----------+-----------------+----------------+-------------------+----------------------+------------------------+---------------+------------------+----------------------+------+-------------+---------------+----------------+----------+-----+\n",
      "|        20|11.055215098286784|221.10430196573566|         Premium|    Mailed check|              No|       Both|               No|          Mobile|  36.75810391025656|     63.53137733399087|                      10|         Sci-Fi|2.1764975145384615|                     4|  Male|            3|             No|              No|CB6SXPNVZA|    0|\n",
      "|        57|5.1752084605118185| 294.9868822491737|           Basic|     Credit card|             Yes|     Movies|               No|          Tablet| 32.450567831131046|    25.725594639013025|                      18|         Action| 3.478632294057515|                     8|  Male|           23|             No|             Yes|S7R2G87O09|    0|\n",
      "|        73|12.106656871383258| 883.7859516109778|           Basic|    Mailed check|             Yes|     Movies|               No|        Computer|    7.3951601087942|     57.36406085422372|                      23|        Fantasy|  4.23882362326149|                     6|  Male|            1|            Yes|             Yes|EASDC20BDT|    0|\n",
      "|        32| 7.263742940677236|232.43977410167156|           Basic|Electronic check|              No|   TV Shows|               No|          Tablet|  27.96038869388153|     131.5375073033797|                      30|          Drama| 4.276012901811724|                     2|  Male|           24|            Yes|             Yes|NPF69NT69N|    0|\n",
      "|        57|16.953077584672634| 966.3254223263401|         Premium|Electronic check|             Yes|   TV Shows|               No|              TV| 20.083397365536275|    45.356653002287025|                      20|         Comedy| 3.616170325945041|                     4|Female|            0|             No|              No|4LGYPK7VOL|    0|\n",
      "+----------+------------------+------------------+----------------+----------------+----------------+-----------+-----------------+----------------+-------------------+----------------------+------------------------+---------------+------------------+----------------------+------+-------------+---------------+----------------+----------+-----+\n",
      "only showing top 5 rows\n",
      "\n"
     ]
    }
   ],
   "source": [
    "churn_data.show(5)"
   ]
  },
  {
   "cell_type": "markdown",
   "metadata": {},
   "source": [
    "Schema "
   ]
  },
  {
   "cell_type": "code",
   "execution_count": 8,
   "metadata": {},
   "outputs": [
    {
     "name": "stdout",
     "output_type": "stream",
     "text": [
      "root\n",
      " |-- AccountAge: integer (nullable = true)\n",
      " |-- MonthlyCharges: double (nullable = true)\n",
      " |-- TotalCharges: double (nullable = true)\n",
      " |-- SubscriptionType: string (nullable = true)\n",
      " |-- PaymentMethod: string (nullable = true)\n",
      " |-- PaperlessBilling: string (nullable = true)\n",
      " |-- ContentType: string (nullable = true)\n",
      " |-- MultiDeviceAccess: string (nullable = true)\n",
      " |-- DeviceRegistered: string (nullable = true)\n",
      " |-- ViewingHoursPerWeek: double (nullable = true)\n",
      " |-- AverageViewingDuration: double (nullable = true)\n",
      " |-- ContentDownloadsPerMonth: integer (nullable = true)\n",
      " |-- GenrePreference: string (nullable = true)\n",
      " |-- UserRating: double (nullable = true)\n",
      " |-- SupportTicketsPerMonth: integer (nullable = true)\n",
      " |-- Gender: string (nullable = true)\n",
      " |-- WatchlistSize: integer (nullable = true)\n",
      " |-- ParentalControl: string (nullable = true)\n",
      " |-- SubtitlesEnabled: string (nullable = true)\n",
      " |-- CustomerID: string (nullable = true)\n",
      " |-- Churn: integer (nullable = true)\n",
      "\n"
     ]
    }
   ],
   "source": [
    "churn_data.printSchema()"
   ]
  },
  {
   "cell_type": "markdown",
   "metadata": {},
   "source": [
    "Numeric Descriptive Statistics"
   ]
  },
  {
   "cell_type": "code",
   "execution_count": 9,
   "metadata": {},
   "outputs": [
    {
     "name": "stdout",
     "output_type": "stream",
     "text": [
      "+-------+------------------+------------------+------------------+-------------------+----------------------+------------------------+------------------+----------------------+-----------------+-------------------+\n",
      "|summary|        AccountAge|    MonthlyCharges|      TotalCharges|ViewingHoursPerWeek|AverageViewingDuration|ContentDownloadsPerMonth|        UserRating|SupportTicketsPerMonth|    WatchlistSize|              Churn|\n",
      "+-------+------------------+------------------+------------------+-------------------+----------------------+------------------------+------------------+----------------------+-----------------+-------------------+\n",
      "|  count|            243787|            243787|            243787|             243787|                243787|                  243787|            243787|                243787|           243787|             243787|\n",
      "|   mean|60.083757542444836|12.490694506213474| 750.7410172504401|  20.50217902620334|     92.26406111425209|      24.503513312850973| 3.002712749468781|      4.50418603124859|12.01850795981738|0.18123197709475894|\n",
      "| stddev|34.285143245616595|4.3276154258526525| 523.0732733967737| 11.243753391906434|     50.50524315557213|      14.421173722535832|1.1552591326429673|     2.872548353429055|7.193034197742206|0.38521105416401435|\n",
      "|    min|                 1| 4.990061546582933| 4.991154354368685| 1.0000653890978741|    5.0005474861951456|                       0|1.0000073778257992|                     0|                0|                  0|\n",
      "|    25%|                30| 8.738123059094166|329.09386062289354| 10.762944059911778|     48.38134343512226|                      12| 2.000747980843882|                     2|                6|                  0|\n",
      "|    50%|                60|12.494381202077387| 649.7986774786289| 20.521028315447644|     92.23708047630595|                      24|3.0021206916417764|                     4|               12|                  0|\n",
      "|    75%|                90| 16.23682781440697|1089.1555999434072|  30.21621781907336|    135.89491122270857|                      37| 4.001868712784422|                     7|               18|                  0|\n",
      "|    max|               119|19.989956867323194| 2378.723844106135|  39.99972313614872|    179.99927511771548|                      49| 4.999989412151973|                     9|               24|                  1|\n",
      "+-------+------------------+------------------+------------------+-------------------+----------------------+------------------------+------------------+----------------------+-----------------+-------------------+\n",
      "\n"
     ]
    }
   ],
   "source": [
    "numeric_stats = churn_data.select(\n",
    "    [col for col, d_t in churn_data.dtypes if d_t.startswith('string') == False]\n",
    "    ).summary()\n",
    "\n",
    "numeric_stats.show()"
   ]
  },
  {
   "cell_type": "markdown",
   "metadata": {},
   "source": [
    "Categorical Statistics"
   ]
  },
  {
   "cell_type": "code",
   "execution_count": 10,
   "metadata": {},
   "outputs": [
    {
     "name": "stdout",
     "output_type": "stream",
     "text": [
      " Distinct values and count in :: Column<'SubscriptionType'>\n",
      "+----------------+-----+\n",
      "|SubscriptionType|count|\n",
      "+----------------+-----+\n",
      "|        Standard|81920|\n",
      "|           Basic|81050|\n",
      "|         Premium|80817|\n",
      "+----------------+-----+\n",
      "\n",
      " Distinct values and count in :: Column<'PaymentMethod'>\n",
      "+----------------+-----+\n",
      "|   PaymentMethod|count|\n",
      "+----------------+-----+\n",
      "|Electronic check|61313|\n",
      "|     Credit card|60924|\n",
      "|   Bank transfer|60797|\n",
      "|    Mailed check|60753|\n",
      "+----------------+-----+\n",
      "\n",
      " Distinct values and count in :: Column<'PaperlessBilling'>\n",
      "+----------------+------+\n",
      "|PaperlessBilling| count|\n",
      "+----------------+------+\n",
      "|              No|121980|\n",
      "|             Yes|121807|\n",
      "+----------------+------+\n",
      "\n",
      " Distinct values and count in :: Column<'ContentType'>\n",
      "+-----------+-----+\n",
      "|ContentType|count|\n",
      "+-----------+-----+\n",
      "|       Both|81737|\n",
      "|   TV Shows|81145|\n",
      "|     Movies|80905|\n",
      "+-----------+-----+\n",
      "\n",
      " Distinct values and count in :: Column<'MultiDeviceAccess'>\n",
      "+-----------------+------+\n",
      "|MultiDeviceAccess| count|\n",
      "+-----------------+------+\n",
      "|               No|122035|\n",
      "|              Yes|121752|\n",
      "+-----------------+------+\n",
      "\n",
      " Distinct values and count in :: Column<'DeviceRegistered'>\n",
      "+----------------+-----+\n",
      "|DeviceRegistered|count|\n",
      "+----------------+-----+\n",
      "|        Computer|61147|\n",
      "|          Tablet|61143|\n",
      "|          Mobile|60914|\n",
      "|              TV|60583|\n",
      "+----------------+-----+\n",
      "\n",
      " Distinct values and count in :: Column<'GenrePreference'>\n",
      "+---------------+-----+\n",
      "|GenrePreference|count|\n",
      "+---------------+-----+\n",
      "|         Comedy|49060|\n",
      "|        Fantasy|48955|\n",
      "|          Drama|48744|\n",
      "|         Action|48690|\n",
      "|         Sci-Fi|48338|\n",
      "+---------------+-----+\n",
      "\n",
      " Distinct values and count in :: Column<'Gender'>\n",
      "+------+------+\n",
      "|Gender| count|\n",
      "+------+------+\n",
      "|Female|121930|\n",
      "|  Male|121857|\n",
      "+------+------+\n",
      "\n",
      " Distinct values and count in :: Column<'ParentalControl'>\n",
      "+---------------+------+\n",
      "|ParentalControl| count|\n",
      "+---------------+------+\n",
      "|            Yes|122085|\n",
      "|             No|121702|\n",
      "+---------------+------+\n",
      "\n",
      " Distinct values and count in :: Column<'SubtitlesEnabled'>\n",
      "+----------------+------+\n",
      "|SubtitlesEnabled| count|\n",
      "+----------------+------+\n",
      "|             Yes|122180|\n",
      "|              No|121607|\n",
      "+----------------+------+\n",
      "\n",
      " Distinct values and count in :: Column<'CustomerID'>\n",
      "+----------+-----+\n",
      "|CustomerID|count|\n",
      "+----------+-----+\n",
      "|LEPESLQ3VB|    1|\n",
      "|BRDB0WOCMO|    1|\n",
      "|IOLDNB2W18|    1|\n",
      "|520WJTQ2RG|    1|\n",
      "|4KOWGV6EKU|    1|\n",
      "|PHMZYPCMR1|    1|\n",
      "|8MZPSS6KJ4|    1|\n",
      "|E37GR7LJKI|    1|\n",
      "|4Y5SQH3NFO|    1|\n",
      "|8EIGLWKHYT|    1|\n",
      "|RHYOTE2LNN|    1|\n",
      "|9Y7KUI57HB|    1|\n",
      "|DLMNOBONGT|    1|\n",
      "|8AWDO7846U|    1|\n",
      "|43RC6Q962B|    1|\n",
      "|VLHE8T3YBU|    1|\n",
      "|XSZSU4UK7M|    1|\n",
      "|GPAXF9X0AS|    1|\n",
      "|X1U2EBIP4M|    1|\n",
      "|AH6O7SCB49|    1|\n",
      "+----------+-----+\n",
      "only showing top 20 rows\n",
      "\n"
     ]
    }
   ],
   "source": [
    "categorical_cols = churn_data.select(\n",
    "    [col for col, d_t in churn_data.dtypes if d_t.startswith('string') == True]\n",
    ")\n",
    "\n",
    "for col_name in categorical_cols:\n",
    "    print(f' Distinct values and count in :: {col_name}')\n",
    "    categorical_cols.groupBy(col_name).count().orderBy('count', ascending = False).show()"
   ]
  },
  {
   "cell_type": "markdown",
   "metadata": {},
   "source": [
    "Checking for Missing values across the features"
   ]
  },
  {
   "cell_type": "code",
   "execution_count": 11,
   "metadata": {},
   "outputs": [
    {
     "name": "stdout",
     "output_type": "stream",
     "text": [
      "+----------+--------------+------------+----------------+-------------+----------------+-----------+-----------------+----------------+-------------------+----------------------+------------------------+---------------+----------+----------------------+------+-------------+---------------+----------------+----------+-----+\n",
      "|AccountAge|MonthlyCharges|TotalCharges|SubscriptionType|PaymentMethod|PaperlessBilling|ContentType|MultiDeviceAccess|DeviceRegistered|ViewingHoursPerWeek|AverageViewingDuration|ContentDownloadsPerMonth|GenrePreference|UserRating|SupportTicketsPerMonth|Gender|WatchlistSize|ParentalControl|SubtitlesEnabled|CustomerID|Churn|\n",
      "+----------+--------------+------------+----------------+-------------+----------------+-----------+-----------------+----------------+-------------------+----------------------+------------------------+---------------+----------+----------------------+------+-------------+---------------+----------------+----------+-----+\n",
      "|         0|             0|           0|               0|            0|               0|          0|                0|               0|                  0|                     0|                       0|              0|         0|                     0|     0|            0|              0|               0|         0|    0|\n",
      "+----------+--------------+------------+----------------+-------------+----------------+-----------+-----------------+----------------+-------------------+----------------------+------------------------+---------------+----------+----------------------+------+-------------+---------------+----------------+----------+-----+\n",
      "\n"
     ]
    }
   ],
   "source": [
    "missing_values = churn_data.select(\n",
    "    [\n",
    "        sum(when(col(c).isNull(), 1).otherwise(0)).alias(c) for c in churn_data.columns\n",
    "    ]\n",
    ")\n",
    "missing_values.show()"
   ]
  },
  {
   "cell_type": "markdown",
   "metadata": {},
   "source": [
    "Checking for Duplicates"
   ]
  },
  {
   "cell_type": "code",
   "execution_count": 12,
   "metadata": {},
   "outputs": [
    {
     "name": "stdout",
     "output_type": "stream",
     "text": [
      "+----------+--------------+------------+----------------+-------------+----------------+-----------+-----------------+----------------+-------------------+----------------------+------------------------+---------------+----------+----------------------+------+-------------+---------------+----------------+----------+-----+-----+\n",
      "|AccountAge|MonthlyCharges|TotalCharges|SubscriptionType|PaymentMethod|PaperlessBilling|ContentType|MultiDeviceAccess|DeviceRegistered|ViewingHoursPerWeek|AverageViewingDuration|ContentDownloadsPerMonth|GenrePreference|UserRating|SupportTicketsPerMonth|Gender|WatchlistSize|ParentalControl|SubtitlesEnabled|CustomerID|Churn|count|\n",
      "+----------+--------------+------------+----------------+-------------+----------------+-----------+-----------------+----------------+-------------------+----------------------+------------------------+---------------+----------+----------------------+------+-------------+---------------+----------------+----------+-----+-----+\n",
      "+----------+--------------+------------+----------------+-------------+----------------+-----------+-----------------+----------------+-------------------+----------------------+------------------------+---------------+----------+----------------------+------+-------------+---------------+----------------+----------+-----+-----+\n",
      "\n"
     ]
    }
   ],
   "source": [
    "duplicate_count = churn_data.groupBy(churn_data.columns).count().filter(col('count') > 1)\n",
    "duplicate_count.show()"
   ]
  },
  {
   "cell_type": "markdown",
   "metadata": {},
   "source": [
    "Transformation 01: ConsistencyScore\n",
    "\n",
    "Measures viewing consistency, indicating whether a user watches for short periods frequently or longer periods less often."
   ]
  },
  {
   "cell_type": "code",
   "execution_count": 37,
   "metadata": {},
   "outputs": [
    {
     "name": "stdout",
     "output_type": "stream",
     "text": [
      "+------------------+----------------------+-------------------+\n",
      "| Consistency_Score|AverageViewingDuration|ViewingHoursPerWeek|\n",
      "+------------------+----------------------+-------------------+\n",
      "|1.7283638320708867|     63.53137733399087|  36.75810391025656|\n",
      "|0.7927625418724876|    25.725594639013025| 32.450567831131046|\n",
      "|7.7569734813459075|     57.36406085422372|    7.3951601087942|\n",
      "| 4.704423416408498|     131.5375073033797|  27.96038869388153|\n",
      "| 2.258415355567302|    45.356653002287025| 20.083397365536275|\n",
      "+------------------+----------------------+-------------------+\n",
      "only showing top 5 rows\n",
      "\n",
      "+-----------------------+\n",
      "|max_viewing_consistency|\n",
      "+-----------------------+\n",
      "|     174.29703750023356|\n",
      "+-----------------------+\n",
      "\n",
      "+-----------------------+\n",
      "|min_viewing_consistency|\n",
      "+-----------------------+\n",
      "|    0.12635851067643944|\n",
      "+-----------------------+\n",
      "\n"
     ]
    }
   ],
   "source": [
    "churn_data = churn_data.withColumn(\n",
    "        'Consistency_Score', col('AverageViewingDuration') / col('ViewingHoursPerWeek')    \n",
    ")\n",
    "\n",
    "churn_data.select('Consistency_Score', 'AverageViewingDuration' ,  'ViewingHoursPerWeek').show(5)\n",
    "\n",
    "max_viewing_score = churn_data.select('Consistency_Score').agg(\n",
    "        max('Consistency_Score').alias('max_viewing_consistency')\n",
    "        )\n",
    "max_viewing_score.show()\n",
    "\n",
    "min_viewing_score = churn_data.select('Consistency_Score').agg(\n",
    "        min('Consistency_Score').alias('min_viewing_consistency')\n",
    "        ).alias('min_viewing_consistency')\n",
    "min_viewing_score.show()"
   ]
  },
  {
   "cell_type": "markdown",
   "metadata": {},
   "source": [
    "Transformation 02: Support Rating Index\n",
    "\n",
    "Insight : Determines if frequent support interactions correlate with lower user satisfaction.\n",
    "\n",
    "High Support Rating Index: A high value for this feature would indicate that a user has frequent or intense interactions with support."
   ]
  },
  {
   "cell_type": "code",
   "execution_count": 14,
   "metadata": {},
   "outputs": [
    {
     "name": "stdout",
     "output_type": "stream",
     "text": [
      "+----------------------+------------------+\n",
      "|SupportTicketsPerMonth|        UserRating|\n",
      "+----------------------+------------------+\n",
      "|                     4|2.1764975145384615|\n",
      "|                     8| 3.478632294057515|\n",
      "|                     6|  4.23882362326149|\n",
      "|                     2| 4.276012901811724|\n",
      "|                     4| 3.616170325945041|\n",
      "+----------------------+------------------+\n",
      "only showing top 5 rows\n",
      "\n",
      "+--------------------+\n",
      "|Support_Rating_Index|\n",
      "+--------------------+\n",
      "|  11.294009941846154|\n",
      "|   12.17094164753988|\n",
      "|  4.5670582604310574|\n",
      "|  1.4479741963765527|\n",
      "|   5.535318696219836|\n",
      "+--------------------+\n",
      "only showing top 5 rows\n",
      "\n"
     ]
    }
   ],
   "source": [
    "churn_data.select('SupportTicketsPerMonth','UserRating').show(5)\n",
    "churn_data = churn_data.withColumn(\n",
    "    'Support_Rating_Index', col('SupportTicketsPerMonth') * (5 - col('UserRating'))\n",
    ")\n",
    "churn_data.select('Support_Rating_Index').show(5)"
   ]
  },
  {
   "cell_type": "code",
   "execution_count": 39,
   "metadata": {},
   "outputs": [
    {
     "data": {
      "text/plain": [
       "['AccountAge',\n",
       " 'MonthlyCharges',\n",
       " 'TotalCharges',\n",
       " 'SubscriptionType',\n",
       " 'PaymentMethod',\n",
       " 'PaperlessBilling',\n",
       " 'ContentType',\n",
       " 'MultiDeviceAccess',\n",
       " 'DeviceRegistered',\n",
       " 'ViewingHoursPerWeek',\n",
       " 'AverageViewingDuration',\n",
       " 'ContentDownloadsPerMonth',\n",
       " 'GenrePreference',\n",
       " 'UserRating',\n",
       " 'SupportTicketsPerMonth',\n",
       " 'Gender',\n",
       " 'WatchlistSize',\n",
       " 'ParentalControl',\n",
       " 'SubtitlesEnabled',\n",
       " 'CustomerID',\n",
       " 'Churn',\n",
       " 'Viewing_Consistency_Score',\n",
       " 'Support_Rating_Index',\n",
       " 'Consistency_Score']"
      ]
     },
     "execution_count": 39,
     "metadata": {},
     "output_type": "execute_result"
    }
   ],
   "source": [
    "churn_data.columns"
   ]
  },
  {
   "cell_type": "code",
   "execution_count": 41,
   "metadata": {},
   "outputs": [],
   "source": [
    "# Temporary View to Run SQL queries\n",
    "churn_data.createOrReplaceTempView('churn_temp_view')"
   ]
  },
  {
   "cell_type": "markdown",
   "metadata": {},
   "source": [
    "Pipeline"
   ]
  },
  {
   "cell_type": "code",
   "execution_count": 47,
   "metadata": {},
   "outputs": [],
   "source": [
    "# Question: What are the top 3 genres with the highest churn rates, and how do they compare across different subscription types?\n",
    "genre_analysis = \"\"\"\n",
    "    SELECT \n",
    "        GenrePreference,\n",
    "        SubscriptionType,\n",
    "        CONCAT(ROUND(AVG(Churn) * 100,2), '%') AS ChurnRate\n",
    "    FROM \n",
    "        churn_temp_view \n",
    "    GROUP BY \n",
    "        GenrePreference,\n",
    "        SubscriptionType\n",
    "    ORDER BY \n",
    "        AVG(Churn) DESC\n",
    "    LIMIT 3;\n",
    "    \"\"\"\n",
    "\n",
    "# Question: How does churn vary across different income groups, and what are the average monthly charges for each group?\n",
    "income_analysis = \"\"\" \n",
    "WITH income_flag AS\n",
    "(\n",
    "    SELECT\n",
    "        CASE \n",
    "        WHEN MonthlyCharges < (SELECT AVG(MonthlyCharges) FROM churn_temp_view) THEN 'Low' \n",
    "        WHEN MonthlyCharges > (SELECT AVG(MonthlyCharges) FROM churn_temp_view)\n",
    "             AND MonthlyCharges < 15 THEN 'Medium'  \n",
    "            ELSE 'High' END AS IncomeGroup,\n",
    "        Churn,\n",
    "        MonthlyCharges\n",
    "    FROM\n",
    "        churn_temp_view\n",
    ")\n",
    "SELECT\n",
    "     IncomeGroup,\n",
    "     COUNT(*) AS total_users,\n",
    "     AVG(MonthlyCharges) AS average_monthly_charges,\n",
    "     CONCAT(ROUND(AVG(Churn),2),'%') AS ChurnRate   \n",
    "FROM \n",
    "    income_flag\n",
    "GROUP BY\n",
    "    IncomeGroup\n",
    "ORDER BY \n",
    "    AVG(MonthlyCharges) DESC\n",
    " \"\"\"\n",
    "\n",
    "# Question: How does AccountAge correlate with churn, and what is the average TotalCharges for users with different subscription lengths?\n",
    "customer_longevity_analysis = \"\"\"\n",
    "WITH avg_account_age AS \n",
    "(\n",
    "    SELECT AVG(AccountAge) AS avg_age\n",
    "    FROM churn_temp_view\n",
    "),\n",
    "age_flag AS \n",
    "(\n",
    "    SELECT \n",
    "        Churn,\n",
    "        TotalCharges,\n",
    "        AccountAge,\n",
    "        CASE \n",
    "            WHEN AccountAge <= 20 THEN 'bronzeAccountType'\n",
    "            WHEN AccountAge > 20 AND AccountAge <= 40 THEN 'silverAccountType'\n",
    "            WHEN AccountAge > 40 AND AccountAge <= (SELECT avg_age FROM avg_account_age) THEN 'goldAccountType' \n",
    "            WHEN AccountAge > (SELECT avg_age FROM avg_account_age) THEN 'premiumAccountType'\n",
    "            ELSE 'Unknown'\n",
    "        END AS age_group\n",
    "    FROM\n",
    "        churn_temp_view\n",
    ")\n",
    "SELECT \n",
    "    age_group,\n",
    "    ROUND(SUM(TotalCharges),2) AS TotalChargesPerAgeGroup,\n",
    "    CONCAT(ROUND(AVG(Churn),2), '%') AS ChurnRate\n",
    "FROM \n",
    "    age_flag\n",
    "GROUP BY\n",
    "        1\n",
    "ORDER BY \n",
    "    AVG(Churn) DESC\n",
    "\"\"\"\n",
    "\n",
    "# Question: What are the average ViewingHoursPerWeek and AverageViewingDuration for users who churned versus those who didn’t?\n",
    "viewing_behavior_analysis = \"\"\"\n",
    "SELECT\n",
    "    Churn,\n",
    "    ROUND(AVG(ViewingHoursPerWeek),2) AS avg_viewing_hps,\n",
    "    ROUND(AVG(AverageViewingDuration),2) AS avg_viewing_duration\n",
    "FROM \n",
    "    churn_temp_view\n",
    "GROUP BY\n",
    "    Churn\n",
    "\"\"\"\n",
    "\n",
    "# Question: How does churn vary by payment method, and what is the average TotalCharges for each payment method?\n",
    "impact_payment_method = \"\"\"\n",
    "SELECT \n",
    "    PaymentMethod, \n",
    "    COUNT(*) AS TotalUsers, \n",
    "    SUM(Churn) AS ChurnedUsers, \n",
    "    CONCAT(ROUND((SUM(Churn) * 100.0 / COUNT(*)),2), '%') AS ChurnRate, \n",
    "    AVG(TotalCharges) AS AvgTotalCharges\n",
    "FROM \n",
    "    churn_temp_view\n",
    "GROUP BY \n",
    "    PaymentMethod;\n",
    "\"\"\"\n",
    "\n",
    "# Question: How does the number of registered devices impact churn, and what is the average ViewingHoursPerWeek for users with and without MultiDeviceAccess?\n",
    "\n",
    "multi_device_analysis = \"\"\" \n",
    "SELECT \n",
    "    DeviceRegistered, \n",
    "    MultiDeviceAccess, \n",
    "    COUNT(*) AS TotalUsers, \n",
    "    SUM(Churn) AS ChurnedUsers, \n",
    "    CONCAT(ROUND((SUM(Churn) * 100.0 / COUNT(*)),2), '%') AS ChurnRate, \n",
    "    AVG(ViewingHoursPerWeek) AS AvgViewingHours\n",
    "FROM \n",
    "    churn_temp_view\n",
    "GROUP BY \n",
    "    DeviceRegistered, \n",
    "    MultiDeviceAccess\n",
    "ORDER BY\n",
    "    AVG(ViewingHoursPerWeek) DESC\n",
    "\"\"\"\n",
    "\n",
    "# What is the average Support_Rating_Index for users who gave a high UserRating versus those who didn’t, and how does this correlate with churn?\n",
    "\n",
    "rating_analysis = \"\"\" \n",
    "SELECT \n",
    "    CASE \n",
    "        WHEN UserRating >= 4 THEN 'High Rating' \n",
    "        ELSE 'Low Rating' \n",
    "    END AS RatingCategory,\n",
    "    AVG(Support_Rating_Index) AS AvgSupportRatingIndex, \n",
    "    COUNT(*) AS TotalUsers, \n",
    "    SUM(Churn) AS ChurnedUsers, \n",
    "    CONCAT(ROUND((SUM(Churn) * 100.0 / COUNT(*)),2), '%') AS ChurnRate\n",
    "FROM \n",
    "    churn_temp_view\n",
    "GROUP BY \n",
    "    RatingCategory;\n",
    "\"\"\"\n",
    "\n",
    "# Finding top 10 highest-risk customers based on their ConsistencyScore and DeviceUsageIntensity, and how can they be prioritized for retention strategies?\n",
    "# incomplete\n",
    "high_risk_analysis = \"\"\" \n",
    "WITH high_risk_flag AS (\n",
    "    SELECT \n",
    "        CustomerID,\n",
    "        AverageViewingDuration,\n",
    "        ViewingHoursPerWeek,\n",
    "        DeviceRegistered,\n",
    "        Consistency_Score,\n",
    "        (ViewingHoursPerWeek / DeviceRegistered) AS DeviceUsageIntensity,\n",
    "        Churn\n",
    "    FROM \n",
    "        churn_temp_view\n",
    "),\n",
    "rank_flag AS (\n",
    "    SELECT \n",
    "        CustomerID,\n",
    "        Consistency_Score,\n",
    "        DeviceUsageIntensity,\n",
    "        Churn,\n",
    "        RANK() OVER (ORDER BY Consistency_Score DESC) AS ConsistencyRank,\n",
    "        RANK() OVER (ORDER BY DeviceUsageIntensity DESC) AS DeviceUsageRank\n",
    "    FROM \n",
    "        high_risk_flag\n",
    ")\n",
    "SELECT \n",
    "    CustomerID,\n",
    "    Consistency_Score,\n",
    "    DeviceUsageIntensity,\n",
    "    ConsistencyRank,\n",
    "    DeviceUsageRank,\n",
    "    Churn,\n",
    "    CASE \n",
    "        WHEN ConsistencyRank < (SELECT AVG(ConsistencyRank) FROM high_risk_flag) AND DeviceUsageRank < (SELECT AVG(DeviceUsageRank) FROM high_risk_flag) THEN 'High-Risk'\n",
    "        ELSE 'Low-Risk'\n",
    "    END AS RiskCategory\n",
    "FROM \n",
    "    rank_flag\n",
    "WHERE \n",
    "    RiskCategory = 'High-Risk'\n",
    "ORDER BY \n",
    "    ConsistencyRank ASC, \n",
    "    DeviceUsageRank ASC\n",
    "LIMIT 10;\n",
    "\n",
    "\"\"\""
   ]
  },
  {
   "cell_type": "code",
   "execution_count": 43,
   "metadata": {},
   "outputs": [
    {
     "name": "stdout",
     "output_type": "stream",
     "text": [
      "+---------------+----------------+---------+\n",
      "|GenrePreference|SubscriptionType|ChurnRate|\n",
      "+---------------+----------------+---------+\n",
      "|         Comedy|           Basic|   21.07%|\n",
      "|         Sci-Fi|           Basic|   20.87%|\n",
      "|         Comedy|        Standard|   19.54%|\n",
      "+---------------+----------------+---------+\n",
      "\n",
      "+-----------+-----------+-----------------------+---------+\n",
      "|IncomeGroup|total_users|average_monthly_charges|ChurnRate|\n",
      "+-----------+-----------+-----------------------+---------+\n",
      "|       High|      81192|     17.485801653641243|    0.23%|\n",
      "|     Medium|      40773|      13.75328164407855|    0.19%|\n",
      "|        Low|     121822|      8.738973102147462|    0.15%|\n",
      "+-----------+-----------+-----------------------+---------+\n",
      "\n",
      "+----------------+----------+------------+---------+-----------------+\n",
      "|   PaymentMethod|TotalUsers|ChurnedUsers|ChurnRate|  AvgTotalCharges|\n",
      "+----------------+----------+------------+---------+-----------------+\n",
      "|   Bank transfer|     60797|       10899|   17.93%|749.8341577020554|\n",
      "|    Mailed check|     60753|       11597|   19.09%|749.7392967139284|\n",
      "|     Credit card|     60924|        9885|   16.23%|750.6997319820646|\n",
      "|Electronic check|     61313|       11801|   19.25%|752.6738395133862|\n",
      "+----------------+----------+------------+---------+-----------------+\n",
      "\n",
      "+-----+---------------+--------------------+\n",
      "|Churn|avg_viewing_hps|avg_viewing_duration|\n",
      "+-----+---------------+--------------------+\n",
      "|    1|          17.43|               76.49|\n",
      "|    0|          21.18|               95.75|\n",
      "+-----+---------------+--------------------+\n",
      "\n",
      "+----------------+-----------------+----------+------------+---------+------------------+\n",
      "|DeviceRegistered|MultiDeviceAccess|TotalUsers|ChurnedUsers|ChurnRate|   AvgViewingHours|\n",
      "+----------------+-----------------+----------+------------+---------+------------------+\n",
      "|        Computer|              Yes|     30552|        5541|   18.14%|20.558206692242226|\n",
      "|          Mobile|              Yes|     30612|        5606|   18.31%| 20.53832329959897|\n",
      "|              TV|               No|     30321|        5479|   18.07%|  20.5292423521638|\n",
      "|              TV|              Yes|     30262|        5368|   17.74%|20.510152913429316|\n",
      "|          Mobile|               No|     30302|        5503|   18.16%| 20.50270084199875|\n",
      "|        Computer|               No|     30595|        5548|   18.13%|20.491188051234804|\n",
      "|          Tablet|              Yes|     30326|        5490|   18.10%| 20.47255572114276|\n",
      "|          Tablet|               No|     30817|        5647|   18.32%|20.415821318915377|\n",
      "+----------------+-----------------+----------+------------+---------+------------------+\n",
      "\n",
      "+--------------+---------------------+----------+------------+---------+\n",
      "|RatingCategory|AvgSupportRatingIndex|TotalUsers|ChurnedUsers|ChurnRate|\n",
      "+--------------+---------------------+----------+------------+---------+\n",
      "|    Low Rating|   11.255541070467006|    182705|       32448|   17.76%|\n",
      "|   High Rating|    2.239875888502351|     61082|       11734|   19.21%|\n",
      "+--------------+---------------------+----------+------------+---------+\n",
      "\n"
     ]
    }
   ],
   "source": [
    "genre_analysis_df = spark.sql(genre_analysis)\n",
    "genre_analysis_df.show()\n",
    "income_analysis_df = spark.sql(income_analysis)\n",
    "income_analysis_df.show()\n",
    "impact_payment_method_df = spark.sql(impact_payment_method)\n",
    "impact_payment_method_df.show()\n",
    "viewing_behavior_analysis_df = spark.sql(viewing_behavior_analysis)\n",
    "viewing_behavior_analysis_df.show()\n",
    "multi_device_analysis_df = spark.sql(multi_device_analysis)\n",
    "multi_device_analysis_df.show()\n",
    "rating_analysis_df = spark.sql(rating_analysis)\n",
    "rating_analysis_df.show()"
   ]
  },
  {
   "cell_type": "code",
   "execution_count": 48,
   "metadata": {},
   "outputs": [
    {
     "ename": "AnalysisException",
     "evalue": "[UNRESOLVED_COLUMN.WITH_SUGGESTION] A column or function parameter with name `RiskCategory` cannot be resolved. Did you mean one of the following? [`Churn`, `CustomerID`, `DeviceUsageRank`, `ConsistencyRank`, `Consistency_Score`].; line 39 pos 4;\n'WithCTE\n:- CTERelationDef 16, false\n:  +- SubqueryAlias high_risk_flag\n:     +- Project [CustomerID#202, AverageViewingDuration#193, ViewingHoursPerWeek#192, DeviceRegistered#191, Consistency_Score#4330, (ViewingHoursPerWeek#192 / cast(DeviceRegistered#191 as double)) AS DeviceUsageIntensity#4818, Churn#203]\n:        +- SubqueryAlias churn_temp_view\n:           +- View (`churn_temp_view`, [AccountAge#183,MonthlyCharges#184,TotalCharges#185,SubscriptionType#186,PaymentMethod#187,PaperlessBilling#188,ContentType#189,MultiDeviceAccess#190,DeviceRegistered#191,ViewingHoursPerWeek#192,AverageViewingDuration#193,ContentDownloadsPerMonth#194,GenrePreference#195,UserRating#196,SupportTicketsPerMonth#197,Gender#198,WatchlistSize#199,ParentalControl#200,SubtitlesEnabled#201,CustomerID#202,Churn#203,Support_Rating_Index#2255,Consistency_Score#4330])\n:              +- Project [AccountAge#183, MonthlyCharges#184, TotalCharges#185, SubscriptionType#186, PaymentMethod#187, PaperlessBilling#188, ContentType#189, MultiDeviceAccess#190, DeviceRegistered#191, ViewingHoursPerWeek#192, AverageViewingDuration#193, ContentDownloadsPerMonth#194, GenrePreference#195, UserRating#196, SupportTicketsPerMonth#197, Gender#198, WatchlistSize#199, ParentalControl#200, SubtitlesEnabled#201, CustomerID#202, Churn#203, Support_Rating_Index#2255, Consistency_Score#4330]\n:                 +- Project [AccountAge#183, MonthlyCharges#184, TotalCharges#185, SubscriptionType#186, PaymentMethod#187, PaperlessBilling#188, ContentType#189, MultiDeviceAccess#190, DeviceRegistered#191, ViewingHoursPerWeek#192, AverageViewingDuration#193, ContentDownloadsPerMonth#194, GenrePreference#195, UserRating#196, SupportTicketsPerMonth#197, Gender#198, WatchlistSize#199, ParentalControl#200, SubtitlesEnabled#201, CustomerID#202, Churn#203, Viewing_Consistency_Score#2169, Support_Rating_Index#2255, (AverageViewingDuration#193 / ViewingHoursPerWeek#192) AS Consistency_Score#4330]\n:                    +- Project [AccountAge#183, MonthlyCharges#184, TotalCharges#185, SubscriptionType#186, PaymentMethod#187, PaperlessBilling#188, ContentType#189, MultiDeviceAccess#190, DeviceRegistered#191, ViewingHoursPerWeek#192, AverageViewingDuration#193, ContentDownloadsPerMonth#194, GenrePreference#195, UserRating#196, SupportTicketsPerMonth#197, Gender#198, WatchlistSize#199, ParentalControl#200, SubtitlesEnabled#201, CustomerID#202, Churn#203, Viewing_Consistency_Score#2169, (cast(SupportTicketsPerMonth#197 as double) * (cast(5 as double) - UserRating#196)) AS Support_Rating_Index#2255]\n:                       +- Project [AccountAge#183, MonthlyCharges#184, TotalCharges#185, SubscriptionType#186, PaymentMethod#187, PaperlessBilling#188, ContentType#189, MultiDeviceAccess#190, DeviceRegistered#191, ViewingHoursPerWeek#192, AverageViewingDuration#193, ContentDownloadsPerMonth#194, GenrePreference#195, UserRating#196, SupportTicketsPerMonth#197, Gender#198, WatchlistSize#199, ParentalControl#200, SubtitlesEnabled#201, CustomerID#202, Churn#203, (AverageViewingDuration#193 / ViewingHoursPerWeek#192) AS Viewing_Consistency_Score#2169]\n:                          +- Relation [AccountAge#183,MonthlyCharges#184,TotalCharges#185,SubscriptionType#186,PaymentMethod#187,PaperlessBilling#188,ContentType#189,MultiDeviceAccess#190,DeviceRegistered#191,ViewingHoursPerWeek#192,AverageViewingDuration#193,ContentDownloadsPerMonth#194,GenrePreference#195,UserRating#196,SupportTicketsPerMonth#197,Gender#198,WatchlistSize#199,ParentalControl#200,SubtitlesEnabled#201,CustomerID#202,Churn#203] csv\n:- CTERelationDef 17, false\n:  +- SubqueryAlias rank_flag\n:     +- Project [CustomerID#202, Consistency_Score#4330, DeviceUsageIntensity#4818, Churn#203, ConsistencyRank#4819, DeviceUsageRank#4820]\n:        +- Project [CustomerID#202, Consistency_Score#4330, DeviceUsageIntensity#4818, Churn#203, ConsistencyRank#4819, DeviceUsageRank#4820, ConsistencyRank#4819, DeviceUsageRank#4820]\n:           +- Window [rank(DeviceUsageIntensity#4818) windowspecdefinition(DeviceUsageIntensity#4818 DESC NULLS LAST, specifiedwindowframe(RowFrame, unboundedpreceding$(), currentrow$())) AS DeviceUsageRank#4820], [DeviceUsageIntensity#4818 DESC NULLS LAST]\n:              +- Window [rank(Consistency_Score#4330) windowspecdefinition(Consistency_Score#4330 DESC NULLS LAST, specifiedwindowframe(RowFrame, unboundedpreceding$(), currentrow$())) AS ConsistencyRank#4819], [Consistency_Score#4330 DESC NULLS LAST]\n:                 +- Project [CustomerID#202, Consistency_Score#4330, DeviceUsageIntensity#4818, Churn#203]\n:                    +- SubqueryAlias high_risk_flag\n:                       +- CTERelationRef 16, true, [CustomerID#202, AverageViewingDuration#193, ViewingHoursPerWeek#192, DeviceRegistered#191, Consistency_Score#4330, DeviceUsageIntensity#4818, Churn#203], false\n+- 'GlobalLimit 10\n   +- 'LocalLimit 10\n      +- 'Sort ['ConsistencyRank ASC NULLS FIRST, 'DeviceUsageRank ASC NULLS FIRST], true\n         +- 'Project ['CustomerID, 'Consistency_Score, 'DeviceUsageIntensity, 'ConsistencyRank, 'DeviceUsageRank, 'Churn, CASE WHEN (('ConsistencyRank < scalar-subquery#4815 []) AND ('DeviceUsageRank < scalar-subquery#4816 [])) THEN High-Risk ELSE Low-Risk END AS RiskCategory#4817]\n            :  :- 'Project [unresolvedalias('AVG('ConsistencyRank), None)]\n            :  :  +- SubqueryAlias high_risk_flag\n            :  :     +- CTERelationRef 16, true, [CustomerID#4825, AverageViewingDuration#4826, ViewingHoursPerWeek#4827, DeviceRegistered#4828, Consistency_Score#4829, DeviceUsageIntensity#4830, Churn#4831], false\n            :  +- 'Project [unresolvedalias('AVG('DeviceUsageRank), None)]\n            :     +- SubqueryAlias high_risk_flag\n            :        +- CTERelationRef 16, true, [CustomerID#4832, AverageViewingDuration#4833, ViewingHoursPerWeek#4834, DeviceRegistered#4835, Consistency_Score#4836, DeviceUsageIntensity#4837, Churn#4838], false\n            +- 'Filter ('RiskCategory = High-Risk)\n               +- SubqueryAlias rank_flag\n                  +- CTERelationRef 17, true, [CustomerID#202, Consistency_Score#4330, DeviceUsageIntensity#4818, Churn#203, ConsistencyRank#4819, DeviceUsageRank#4820], false\n",
     "output_type": "error",
     "traceback": [
      "\u001b[1;31m---------------------------------------------------------------------------\u001b[0m",
      "\u001b[1;31mAnalysisException\u001b[0m                         Traceback (most recent call last)",
      "Cell \u001b[1;32mIn[48], line 1\u001b[0m\n\u001b[1;32m----> 1\u001b[0m high_risk_analysis_df\u001b[38;5;241m=\u001b[39m \u001b[43mspark\u001b[49m\u001b[38;5;241;43m.\u001b[39;49m\u001b[43msql\u001b[49m\u001b[43m(\u001b[49m\u001b[43mhigh_risk_analysis\u001b[49m\u001b[43m)\u001b[49m\n\u001b[0;32m      2\u001b[0m high_risk_analysis_df\u001b[38;5;241m.\u001b[39mshow()\n",
      "File \u001b[1;32mc:\\Users\\Shree123\\anaconda3\\envs\\etl_env\\lib\\site-packages\\pyspark\\sql\\session.py:1631\u001b[0m, in \u001b[0;36mSparkSession.sql\u001b[1;34m(self, sqlQuery, args, **kwargs)\u001b[0m\n\u001b[0;32m   1627\u001b[0m         \u001b[38;5;28;01massert\u001b[39;00m \u001b[38;5;28mself\u001b[39m\u001b[38;5;241m.\u001b[39m_jvm \u001b[38;5;129;01mis\u001b[39;00m \u001b[38;5;129;01mnot\u001b[39;00m \u001b[38;5;28;01mNone\u001b[39;00m\n\u001b[0;32m   1628\u001b[0m         litArgs \u001b[38;5;241m=\u001b[39m \u001b[38;5;28mself\u001b[39m\u001b[38;5;241m.\u001b[39m_jvm\u001b[38;5;241m.\u001b[39mPythonUtils\u001b[38;5;241m.\u001b[39mtoArray(\n\u001b[0;32m   1629\u001b[0m             [_to_java_column(lit(v)) \u001b[38;5;28;01mfor\u001b[39;00m v \u001b[38;5;129;01min\u001b[39;00m (args \u001b[38;5;129;01mor\u001b[39;00m [])]\n\u001b[0;32m   1630\u001b[0m         )\n\u001b[1;32m-> 1631\u001b[0m     \u001b[38;5;28;01mreturn\u001b[39;00m DataFrame(\u001b[38;5;28;43mself\u001b[39;49m\u001b[38;5;241;43m.\u001b[39;49m\u001b[43m_jsparkSession\u001b[49m\u001b[38;5;241;43m.\u001b[39;49m\u001b[43msql\u001b[49m\u001b[43m(\u001b[49m\u001b[43msqlQuery\u001b[49m\u001b[43m,\u001b[49m\u001b[43m \u001b[49m\u001b[43mlitArgs\u001b[49m\u001b[43m)\u001b[49m, \u001b[38;5;28mself\u001b[39m)\n\u001b[0;32m   1632\u001b[0m \u001b[38;5;28;01mfinally\u001b[39;00m:\n\u001b[0;32m   1633\u001b[0m     \u001b[38;5;28;01mif\u001b[39;00m \u001b[38;5;28mlen\u001b[39m(kwargs) \u001b[38;5;241m>\u001b[39m \u001b[38;5;241m0\u001b[39m:\n",
      "File \u001b[1;32mc:\\Users\\Shree123\\anaconda3\\envs\\etl_env\\lib\\site-packages\\py4j\\java_gateway.py:1322\u001b[0m, in \u001b[0;36mJavaMember.__call__\u001b[1;34m(self, *args)\u001b[0m\n\u001b[0;32m   1316\u001b[0m command \u001b[38;5;241m=\u001b[39m proto\u001b[38;5;241m.\u001b[39mCALL_COMMAND_NAME \u001b[38;5;241m+\u001b[39m\\\n\u001b[0;32m   1317\u001b[0m     \u001b[38;5;28mself\u001b[39m\u001b[38;5;241m.\u001b[39mcommand_header \u001b[38;5;241m+\u001b[39m\\\n\u001b[0;32m   1318\u001b[0m     args_command \u001b[38;5;241m+\u001b[39m\\\n\u001b[0;32m   1319\u001b[0m     proto\u001b[38;5;241m.\u001b[39mEND_COMMAND_PART\n\u001b[0;32m   1321\u001b[0m answer \u001b[38;5;241m=\u001b[39m \u001b[38;5;28mself\u001b[39m\u001b[38;5;241m.\u001b[39mgateway_client\u001b[38;5;241m.\u001b[39msend_command(command)\n\u001b[1;32m-> 1322\u001b[0m return_value \u001b[38;5;241m=\u001b[39m \u001b[43mget_return_value\u001b[49m\u001b[43m(\u001b[49m\n\u001b[0;32m   1323\u001b[0m \u001b[43m    \u001b[49m\u001b[43manswer\u001b[49m\u001b[43m,\u001b[49m\u001b[43m \u001b[49m\u001b[38;5;28;43mself\u001b[39;49m\u001b[38;5;241;43m.\u001b[39;49m\u001b[43mgateway_client\u001b[49m\u001b[43m,\u001b[49m\u001b[43m \u001b[49m\u001b[38;5;28;43mself\u001b[39;49m\u001b[38;5;241;43m.\u001b[39;49m\u001b[43mtarget_id\u001b[49m\u001b[43m,\u001b[49m\u001b[43m \u001b[49m\u001b[38;5;28;43mself\u001b[39;49m\u001b[38;5;241;43m.\u001b[39;49m\u001b[43mname\u001b[49m\u001b[43m)\u001b[49m\n\u001b[0;32m   1325\u001b[0m \u001b[38;5;28;01mfor\u001b[39;00m temp_arg \u001b[38;5;129;01min\u001b[39;00m temp_args:\n\u001b[0;32m   1326\u001b[0m     \u001b[38;5;28;01mif\u001b[39;00m \u001b[38;5;28mhasattr\u001b[39m(temp_arg, \u001b[38;5;124m\"\u001b[39m\u001b[38;5;124m_detach\u001b[39m\u001b[38;5;124m\"\u001b[39m):\n",
      "File \u001b[1;32mc:\\Users\\Shree123\\anaconda3\\envs\\etl_env\\lib\\site-packages\\pyspark\\errors\\exceptions\\captured.py:185\u001b[0m, in \u001b[0;36mcapture_sql_exception.<locals>.deco\u001b[1;34m(*a, **kw)\u001b[0m\n\u001b[0;32m    181\u001b[0m converted \u001b[38;5;241m=\u001b[39m convert_exception(e\u001b[38;5;241m.\u001b[39mjava_exception)\n\u001b[0;32m    182\u001b[0m \u001b[38;5;28;01mif\u001b[39;00m \u001b[38;5;129;01mnot\u001b[39;00m \u001b[38;5;28misinstance\u001b[39m(converted, UnknownException):\n\u001b[0;32m    183\u001b[0m     \u001b[38;5;66;03m# Hide where the exception came from that shows a non-Pythonic\u001b[39;00m\n\u001b[0;32m    184\u001b[0m     \u001b[38;5;66;03m# JVM exception message.\u001b[39;00m\n\u001b[1;32m--> 185\u001b[0m     \u001b[38;5;28;01mraise\u001b[39;00m converted \u001b[38;5;28;01mfrom\u001b[39;00m \u001b[38;5;28;01mNone\u001b[39;00m\n\u001b[0;32m    186\u001b[0m \u001b[38;5;28;01melse\u001b[39;00m:\n\u001b[0;32m    187\u001b[0m     \u001b[38;5;28;01mraise\u001b[39;00m\n",
      "\u001b[1;31mAnalysisException\u001b[0m: [UNRESOLVED_COLUMN.WITH_SUGGESTION] A column or function parameter with name `RiskCategory` cannot be resolved. Did you mean one of the following? [`Churn`, `CustomerID`, `DeviceUsageRank`, `ConsistencyRank`, `Consistency_Score`].; line 39 pos 4;\n'WithCTE\n:- CTERelationDef 16, false\n:  +- SubqueryAlias high_risk_flag\n:     +- Project [CustomerID#202, AverageViewingDuration#193, ViewingHoursPerWeek#192, DeviceRegistered#191, Consistency_Score#4330, (ViewingHoursPerWeek#192 / cast(DeviceRegistered#191 as double)) AS DeviceUsageIntensity#4818, Churn#203]\n:        +- SubqueryAlias churn_temp_view\n:           +- View (`churn_temp_view`, [AccountAge#183,MonthlyCharges#184,TotalCharges#185,SubscriptionType#186,PaymentMethod#187,PaperlessBilling#188,ContentType#189,MultiDeviceAccess#190,DeviceRegistered#191,ViewingHoursPerWeek#192,AverageViewingDuration#193,ContentDownloadsPerMonth#194,GenrePreference#195,UserRating#196,SupportTicketsPerMonth#197,Gender#198,WatchlistSize#199,ParentalControl#200,SubtitlesEnabled#201,CustomerID#202,Churn#203,Support_Rating_Index#2255,Consistency_Score#4330])\n:              +- Project [AccountAge#183, MonthlyCharges#184, TotalCharges#185, SubscriptionType#186, PaymentMethod#187, PaperlessBilling#188, ContentType#189, MultiDeviceAccess#190, DeviceRegistered#191, ViewingHoursPerWeek#192, AverageViewingDuration#193, ContentDownloadsPerMonth#194, GenrePreference#195, UserRating#196, SupportTicketsPerMonth#197, Gender#198, WatchlistSize#199, ParentalControl#200, SubtitlesEnabled#201, CustomerID#202, Churn#203, Support_Rating_Index#2255, Consistency_Score#4330]\n:                 +- Project [AccountAge#183, MonthlyCharges#184, TotalCharges#185, SubscriptionType#186, PaymentMethod#187, PaperlessBilling#188, ContentType#189, MultiDeviceAccess#190, DeviceRegistered#191, ViewingHoursPerWeek#192, AverageViewingDuration#193, ContentDownloadsPerMonth#194, GenrePreference#195, UserRating#196, SupportTicketsPerMonth#197, Gender#198, WatchlistSize#199, ParentalControl#200, SubtitlesEnabled#201, CustomerID#202, Churn#203, Viewing_Consistency_Score#2169, Support_Rating_Index#2255, (AverageViewingDuration#193 / ViewingHoursPerWeek#192) AS Consistency_Score#4330]\n:                    +- Project [AccountAge#183, MonthlyCharges#184, TotalCharges#185, SubscriptionType#186, PaymentMethod#187, PaperlessBilling#188, ContentType#189, MultiDeviceAccess#190, DeviceRegistered#191, ViewingHoursPerWeek#192, AverageViewingDuration#193, ContentDownloadsPerMonth#194, GenrePreference#195, UserRating#196, SupportTicketsPerMonth#197, Gender#198, WatchlistSize#199, ParentalControl#200, SubtitlesEnabled#201, CustomerID#202, Churn#203, Viewing_Consistency_Score#2169, (cast(SupportTicketsPerMonth#197 as double) * (cast(5 as double) - UserRating#196)) AS Support_Rating_Index#2255]\n:                       +- Project [AccountAge#183, MonthlyCharges#184, TotalCharges#185, SubscriptionType#186, PaymentMethod#187, PaperlessBilling#188, ContentType#189, MultiDeviceAccess#190, DeviceRegistered#191, ViewingHoursPerWeek#192, AverageViewingDuration#193, ContentDownloadsPerMonth#194, GenrePreference#195, UserRating#196, SupportTicketsPerMonth#197, Gender#198, WatchlistSize#199, ParentalControl#200, SubtitlesEnabled#201, CustomerID#202, Churn#203, (AverageViewingDuration#193 / ViewingHoursPerWeek#192) AS Viewing_Consistency_Score#2169]\n:                          +- Relation [AccountAge#183,MonthlyCharges#184,TotalCharges#185,SubscriptionType#186,PaymentMethod#187,PaperlessBilling#188,ContentType#189,MultiDeviceAccess#190,DeviceRegistered#191,ViewingHoursPerWeek#192,AverageViewingDuration#193,ContentDownloadsPerMonth#194,GenrePreference#195,UserRating#196,SupportTicketsPerMonth#197,Gender#198,WatchlistSize#199,ParentalControl#200,SubtitlesEnabled#201,CustomerID#202,Churn#203] csv\n:- CTERelationDef 17, false\n:  +- SubqueryAlias rank_flag\n:     +- Project [CustomerID#202, Consistency_Score#4330, DeviceUsageIntensity#4818, Churn#203, ConsistencyRank#4819, DeviceUsageRank#4820]\n:        +- Project [CustomerID#202, Consistency_Score#4330, DeviceUsageIntensity#4818, Churn#203, ConsistencyRank#4819, DeviceUsageRank#4820, ConsistencyRank#4819, DeviceUsageRank#4820]\n:           +- Window [rank(DeviceUsageIntensity#4818) windowspecdefinition(DeviceUsageIntensity#4818 DESC NULLS LAST, specifiedwindowframe(RowFrame, unboundedpreceding$(), currentrow$())) AS DeviceUsageRank#4820], [DeviceUsageIntensity#4818 DESC NULLS LAST]\n:              +- Window [rank(Consistency_Score#4330) windowspecdefinition(Consistency_Score#4330 DESC NULLS LAST, specifiedwindowframe(RowFrame, unboundedpreceding$(), currentrow$())) AS ConsistencyRank#4819], [Consistency_Score#4330 DESC NULLS LAST]\n:                 +- Project [CustomerID#202, Consistency_Score#4330, DeviceUsageIntensity#4818, Churn#203]\n:                    +- SubqueryAlias high_risk_flag\n:                       +- CTERelationRef 16, true, [CustomerID#202, AverageViewingDuration#193, ViewingHoursPerWeek#192, DeviceRegistered#191, Consistency_Score#4330, DeviceUsageIntensity#4818, Churn#203], false\n+- 'GlobalLimit 10\n   +- 'LocalLimit 10\n      +- 'Sort ['ConsistencyRank ASC NULLS FIRST, 'DeviceUsageRank ASC NULLS FIRST], true\n         +- 'Project ['CustomerID, 'Consistency_Score, 'DeviceUsageIntensity, 'ConsistencyRank, 'DeviceUsageRank, 'Churn, CASE WHEN (('ConsistencyRank < scalar-subquery#4815 []) AND ('DeviceUsageRank < scalar-subquery#4816 [])) THEN High-Risk ELSE Low-Risk END AS RiskCategory#4817]\n            :  :- 'Project [unresolvedalias('AVG('ConsistencyRank), None)]\n            :  :  +- SubqueryAlias high_risk_flag\n            :  :     +- CTERelationRef 16, true, [CustomerID#4825, AverageViewingDuration#4826, ViewingHoursPerWeek#4827, DeviceRegistered#4828, Consistency_Score#4829, DeviceUsageIntensity#4830, Churn#4831], false\n            :  +- 'Project [unresolvedalias('AVG('DeviceUsageRank), None)]\n            :     +- SubqueryAlias high_risk_flag\n            :        +- CTERelationRef 16, true, [CustomerID#4832, AverageViewingDuration#4833, ViewingHoursPerWeek#4834, DeviceRegistered#4835, Consistency_Score#4836, DeviceUsageIntensity#4837, Churn#4838], false\n            +- 'Filter ('RiskCategory = High-Risk)\n               +- SubqueryAlias rank_flag\n                  +- CTERelationRef 17, true, [CustomerID#202, Consistency_Score#4330, DeviceUsageIntensity#4818, Churn#203, ConsistencyRank#4819, DeviceUsageRank#4820], false\n"
     ]
    }
   ],
   "source": [
    "high_risk_analysis_df= spark.sql(high_risk_analysis)\n",
    "high_risk_analysis_df.show()"
   ]
  },
  {
   "cell_type": "code",
   "execution_count": 55,
   "metadata": {},
   "outputs": [
    {
     "name": "stdout",
     "output_type": "stream",
     "text": [
      "+-----+---------------+--------------------+\n",
      "|Churn|avg_viewing_hps|avg_viewing_duration|\n",
      "+-----+---------------+--------------------+\n",
      "|    1|          17.43|               76.49|\n",
      "|    0|          21.18|               95.75|\n",
      "+-----+---------------+--------------------+\n",
      "\n"
     ]
    }
   ],
   "source": [
    "churn_data.select('DeviceRegistered').show(5)"
   ]
  },
  {
   "cell_type": "code",
   "execution_count": 31,
   "metadata": {},
   "outputs": [
    {
     "name": "stdout",
     "output_type": "stream",
     "text": [
      "+----------+----------+---------+\n",
      "|CustomerID|AccountAge|ChurnRate|\n",
      "+----------+----------+---------+\n",
      "|008B3OJNVT|        25|      1.0|\n",
      "|002JAHXBD0|        94|      1.0|\n",
      "|00E34HN125|        16|      1.0|\n",
      "+----------+----------+---------+\n",
      "\n"
     ]
    }
   ],
   "source": [
    "new_query = \"\"\"\n",
    "WITH cte AS \n",
    "(\n",
    "    SELECT \n",
    "        CustomerID,\n",
    "        AccountAge,\n",
    "        ROUND(AVG(Churn), 2) AS ChurnRate\n",
    "    FROM \n",
    "        churn_temp_view\n",
    "    GROUP BY\n",
    "        CustomerID, AccountAge\n",
    "), rank_flag AS\n",
    "(\n",
    "    SELECT \n",
    "        CustomerID, \n",
    "        AccountAge,\n",
    "        ChurnRate,\n",
    "        ROW_NUMBER() OVER (PARTITION BY CustomerID ORDER BY ChurnRate DESC) AS rank\n",
    "    FROM\n",
    "        cte     \n",
    ")\n",
    "SELECT \n",
    "    CustomerID, \n",
    "    AccountAge, \n",
    "    ChurnRate\n",
    "FROM \n",
    "    rank_flag\n",
    "WHERE rank = 1\n",
    "ORDER BY ChurnRate DESC\n",
    "LIMIT 3\n",
    "\"\"\" \n",
    "\n",
    "new_df = spark.sql(new_query)\n",
    "new_df.show()"
   ]
  },
  {
   "cell_type": "code",
   "execution_count": 33,
   "metadata": {},
   "outputs": [
    {
     "name": "stdout",
     "output_type": "stream",
     "text": [
      "+----------+----------+---------+\n",
      "|CustomerID|AccountAge|ChurnRate|\n",
      "+----------+----------+---------+\n",
      "|008B3OJNVT|        25|      1.0|\n",
      "|002JAHXBD0|        94|      1.0|\n",
      "|00E34HN125|        16|      1.0|\n",
      "+----------+----------+---------+\n",
      "\n"
     ]
    }
   ],
   "source": [
    "new = \"\"\" \n",
    "WITH ranked_churn AS \n",
    "(\n",
    "    SELECT \n",
    "        CustomerID, \n",
    "        AccountAge, \n",
    "        ROUND(AVG(Churn), 2) AS ChurnRate,\n",
    "        ROW_NUMBER() OVER (PARTITION BY CustomerID ORDER BY ROUND(AVG(Churn), 2) DESC) AS rank\n",
    "    FROM \n",
    "        churn_temp_view\n",
    "    GROUP BY \n",
    "        CustomerID, AccountAge\n",
    ")\n",
    "SELECT \n",
    "    CustomerID, \n",
    "    AccountAge, \n",
    "    ChurnRate\n",
    "FROM \n",
    "    ranked_churn\n",
    "WHERE rank = 1\n",
    "ORDER BY \n",
    "    ChurnRate DESC\n",
    "LIMIT 3;\n",
    "\n",
    "\"\"\"\n",
    "new_df = spark.sql(new)\n",
    "new_df.show()"
   ]
  },
  {
   "cell_type": "code",
   "execution_count": null,
   "metadata": {},
   "outputs": [],
   "source": []
  },
  {
   "cell_type": "code",
   "execution_count": null,
   "metadata": {},
   "outputs": [],
   "source": []
  },
  {
   "cell_type": "code",
   "execution_count": null,
   "metadata": {},
   "outputs": [],
   "source": []
  },
  {
   "cell_type": "code",
   "execution_count": null,
   "metadata": {},
   "outputs": [],
   "source": []
  },
  {
   "cell_type": "code",
   "execution_count": 38,
   "metadata": {},
   "outputs": [],
   "source": [
    "churn_rate_df = churn_data.groupBy(\"Gender\").agg(\n",
    "    count(\"*\").alias(\"TotalCustomers\"),\n",
    "    sum(\"Churn\").alias(\"ChurnedCustomers\")\n",
    ").withColumn(\n",
    "    \"ChurnRate\", (col(\"ChurnedCustomers\") / col(\"TotalCustomers\")) * 100\n",
    ")"
   ]
  },
  {
   "cell_type": "code",
   "execution_count": 40,
   "metadata": {},
   "outputs": [
    {
     "name": "stdout",
     "output_type": "stream",
     "text": [
      "+------+--------------+----------------+------------------+\n",
      "|Gender|TotalCustomers|ChurnedCustomers|         ChurnRate|\n",
      "+------+--------------+----------------+------------------+\n",
      "|Female|        121930|           21747| 17.83564340195194|\n",
      "|  Male|        121857|           22435|18.410924280098804|\n",
      "+------+--------------+----------------+------------------+\n",
      "\n"
     ]
    }
   ],
   "source": [
    "churn_rate_df.show()"
   ]
  },
  {
   "cell_type": "code",
   "execution_count": 22,
   "metadata": {},
   "outputs": [],
   "source": [
    "# Average Churn Rate by Gender (include count by gender and churned customers with rate)"
   ]
  },
  {
   "cell_type": "code",
   "execution_count": null,
   "metadata": {},
   "outputs": [],
   "source": []
  }
 ],
 "metadata": {
  "kernelspec": {
   "display_name": "etl_env",
   "language": "python",
   "name": "python3"
  },
  "language_info": {
   "codemirror_mode": {
    "name": "ipython",
    "version": 3
   },
   "file_extension": ".py",
   "mimetype": "text/x-python",
   "name": "python",
   "nbconvert_exporter": "python",
   "pygments_lexer": "ipython3",
   "version": "3.9.19"
  }
 },
 "nbformat": 4,
 "nbformat_minor": 2
}
