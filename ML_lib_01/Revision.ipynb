{
 "cells": [
  {
   "cell_type": "code",
   "execution_count": 1,
   "id": "b732708a-b5fd-4a66-b8e7-9ac52c1c187e",
   "metadata": {},
   "outputs": [],
   "source": [
    "import pandas as pd\n",
    "import pyspark\n",
    "from pyspark.sql import SparkSession"
   ]
  },
  {
   "cell_type": "code",
   "execution_count": 3,
   "id": "e2c718a8-7c06-45ad-b652-fbe0a17aa46d",
   "metadata": {},
   "outputs": [],
   "source": [
    "spark = SparkSession.builder.appName('practise2').getOrCreate()"
   ]
  },
  {
   "cell_type": "code",
   "execution_count": 4,
   "id": "c545ef71-9618-4a59-96d2-0f216263db35",
   "metadata": {},
   "outputs": [
    {
     "data": {
      "text/html": [
       "\n",
       "            <div>\n",
       "                <p><b>SparkSession - in-memory</b></p>\n",
       "                \n",
       "        <div>\n",
       "            <p><b>SparkContext</b></p>\n",
       "\n",
       "            <p><a href=\"http://136.206.195.55:4040\">Spark UI</a></p>\n",
       "\n",
       "            <dl>\n",
       "              <dt>Version</dt>\n",
       "                <dd><code>v3.5.0</code></dd>\n",
       "              <dt>Master</dt>\n",
       "                <dd><code>local[*]</code></dd>\n",
       "              <dt>AppName</dt>\n",
       "                <dd><code>practise2</code></dd>\n",
       "            </dl>\n",
       "        </div>\n",
       "        \n",
       "            </div>\n",
       "        "
      ],
      "text/plain": [
       "<pyspark.sql.session.SparkSession at 0x1a6740aae80>"
      ]
     },
     "execution_count": 4,
     "metadata": {},
     "output_type": "execute_result"
    }
   ],
   "source": [
    "spark"
   ]
  },
  {
   "cell_type": "code",
   "execution_count": 5,
   "id": "547f9d80-6213-4425-b0ed-dcfabe280a7f",
   "metadata": {},
   "outputs": [],
   "source": [
    "df = spark.read.csv(\"C:\\\\Users\\\\Shree123\\\\MACHINE LEARNING PROJECT TYCS\\\\Consumer_Price_Index.csv\" , header = True , inferSchema = True)"
   ]
  },
  {
   "cell_type": "code",
   "execution_count": 6,
   "id": "6c03aec8-0095-4f3d-989f-70f230376577",
   "metadata": {},
   "outputs": [
    {
     "name": "stdout",
     "output_type": "stream",
     "text": [
      "root\n",
      " |-- id: integer (nullable = true)\n",
      " |-- Entity: string (nullable = true)\n",
      " |-- Code: string (nullable = true)\n",
      " |-- Year: integer (nullable = true)\n",
      " |-- Consumer price index (2010 = 100): double (nullable = true)\n",
      "\n"
     ]
    }
   ],
   "source": [
    "df.printSchema()"
   ]
  },
  {
   "cell_type": "code",
   "execution_count": 7,
   "id": "f16b3faf-601c-4876-b63d-2b7220006c0e",
   "metadata": {},
   "outputs": [
    {
     "name": "stdout",
     "output_type": "stream",
     "text": [
      "+----+-------------+----+----+---------------------------------+\n",
      "|  id|       Entity|Code|Year|Consumer price index (2010 = 100)|\n",
      "+----+-------------+----+----+---------------------------------+\n",
      "|8236|United States| USA|1960|                        13.563061|\n",
      "|8237|United States| USA|1961|                        13.708283|\n",
      "|8238|United States| USA|1962|                        13.872615|\n",
      "|8239|United States| USA|1963|                         14.04459|\n",
      "+----+-------------+----+----+---------------------------------+\n",
      "\n"
     ]
    }
   ],
   "source": [
    "df.show()"
   ]
  },
  {
   "cell_type": "code",
   "execution_count": 8,
   "id": "295af462-f259-482a-a4ad-9113deb1918b",
   "metadata": {},
   "outputs": [
    {
     "name": "stdout",
     "output_type": "stream",
     "text": [
      "+-------+------------------+-------------+----+------------------+---------------------------------+\n",
      "|summary|                id|       Entity|Code|              Year|Consumer price index (2010 = 100)|\n",
      "+-------+------------------+-------------+----+------------------+---------------------------------+\n",
      "|  count|                 4|            4|   4|                 4|                                4|\n",
      "|   mean|            8237.5|         NULL|NULL|            1961.5|               13.797137249999999|\n",
      "| stddev|1.2909944487358056|         NULL|NULL|1.2909944487358056|              0.20785934570020317|\n",
      "|    min|              8236|United States| USA|              1960|                        13.563061|\n",
      "|    max|              8239|United States| USA|              1963|                         14.04459|\n",
      "+-------+------------------+-------------+----+------------------+---------------------------------+\n",
      "\n"
     ]
    }
   ],
   "source": [
    "df.describe().show()"
   ]
  },
  {
   "cell_type": "code",
   "execution_count": 17,
   "id": "4379d723-4205-431a-ba7b-8c687c592e10",
   "metadata": {},
   "outputs": [
    {
     "name": "stdout",
     "output_type": "stream",
     "text": [
      "+----+-------+\n",
      "|Year|CPI_lag|\n",
      "+----+-------+\n",
      "|1960|   1958|\n",
      "|1961|   1959|\n",
      "|1962|   1960|\n",
      "|1963|   1961|\n",
      "+----+-------+\n",
      "\n"
     ]
    }
   ],
   "source": [
    "# new column\n",
    "df = df.withColumn('CPI_Lag', df['Year']- 2)\n",
    "df.select([\"Year\",'CPI_lag']).show()"
   ]
  },
  {
   "cell_type": "code",
   "execution_count": null,
   "id": "5476c2e0-1a5d-4b71-942b-5b8c7815a638",
   "metadata": {},
   "outputs": [],
   "source": []
  }
 ],
 "metadata": {
  "kernelspec": {
   "display_name": "Python 3 (ipykernel)",
   "language": "python",
   "name": "python3"
  },
  "language_info": {
   "codemirror_mode": {
    "name": "ipython",
    "version": 3
   },
   "file_extension": ".py",
   "mimetype": "text/x-python",
   "name": "python",
   "nbconvert_exporter": "python",
   "pygments_lexer": "ipython3",
   "version": "3.9.18"
  }
 },
 "nbformat": 4,
 "nbformat_minor": 5
}
