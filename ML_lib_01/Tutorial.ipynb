{
 "cells": [
  {
   "cell_type": "markdown",
   "id": "7b434f63-a793-4757-a3c8-9bb9eddfa229",
   "metadata": {},
   "source": [
    "# Introduction"
   ]
  },
  {
   "cell_type": "code",
   "execution_count": 27,
   "id": "827da22a-b298-4419-afe6-eea487c59ad8",
   "metadata": {},
   "outputs": [],
   "source": [
    "# import pyspark and create a spark session"
   ]
  },
  {
   "cell_type": "code",
   "execution_count": 28,
   "id": "a8e9a2ae-ef58-4ebe-88b2-f3f2a27411be",
   "metadata": {},
   "outputs": [],
   "source": [
    "import pyspark"
   ]
  },
  {
   "cell_type": "code",
   "execution_count": 29,
   "id": "11511dc5-f674-4858-acf2-e3838487f38f",
   "metadata": {},
   "outputs": [],
   "source": [
    "from pyspark.sql import SparkSession"
   ]
  },
  {
   "cell_type": "code",
   "execution_count": 30,
   "id": "945ce98f-d782-453a-b43b-71d873faf25c",
   "metadata": {},
   "outputs": [],
   "source": [
    "# create a spark cluster"
   ]
  },
  {
   "cell_type": "code",
   "execution_count": 31,
   "id": "271f7db3-46e4-46e0-aaa4-6031b940232f",
   "metadata": {},
   "outputs": [],
   "source": [
    "spark = SparkSession.builder.appName('Practise').getOrCreate()"
   ]
  },
  {
   "cell_type": "code",
   "execution_count": 32,
   "id": "1b94442b-c01b-4b9d-86cd-c1009a257d8a",
   "metadata": {},
   "outputs": [
    {
     "data": {
      "text/html": [
       "\n",
       "            <div>\n",
       "                <p><b>SparkSession - in-memory</b></p>\n",
       "                \n",
       "        <div>\n",
       "            <p><b>SparkContext</b></p>\n",
       "\n",
       "            <p><a href=\"http://136.206.195.55:4041\">Spark UI</a></p>\n",
       "\n",
       "            <dl>\n",
       "              <dt>Version</dt>\n",
       "                <dd><code>v3.5.0</code></dd>\n",
       "              <dt>Master</dt>\n",
       "                <dd><code>local[*]</code></dd>\n",
       "              <dt>AppName</dt>\n",
       "                <dd><code>Practise</code></dd>\n",
       "            </dl>\n",
       "        </div>\n",
       "        \n",
       "            </div>\n",
       "        "
      ],
      "text/plain": [
       "<pyspark.sql.session.SparkSession at 0x1a5c490b910>"
      ]
     },
     "execution_count": 32,
     "metadata": {},
     "output_type": "execute_result"
    }
   ],
   "source": [
    "# Check the version of your cluster\n",
    "spark"
   ]
  },
  {
   "cell_type": "code",
   "execution_count": 33,
   "id": "6b4595bf-e3a8-4dd5-bbc8-eb245a7c3ba6",
   "metadata": {},
   "outputs": [],
   "source": [
    "# option - to make your first row as header"
   ]
  },
  {
   "cell_type": "code",
   "execution_count": 34,
   "id": "226941b2-60d9-4b66-bc8b-3b5dc2171042",
   "metadata": {},
   "outputs": [],
   "source": [
    "# Reading a dataset in pyspark\n",
    "df = spark.read.csv(\"C:\\\\Users\\\\Shree123\\\\MACHINE LEARNING PROJECT TYCS\\\\Consumer_Price_Index.csv\" )"
   ]
  },
  {
   "cell_type": "code",
   "execution_count": 35,
   "id": "a3db024a-8dbb-4cb2-a80c-1eb9e8a3a7f2",
   "metadata": {},
   "outputs": [
    {
     "name": "stdout",
     "output_type": "stream",
     "text": [
      "+----+-------------+----+----+--------------------+\n",
      "| _c0|          _c1| _c2| _c3|                 _c4|\n",
      "+----+-------------+----+----+--------------------+\n",
      "|  id|       Entity|Code|Year|Consumer price in...|\n",
      "|8236|United States| USA|1960|           13.563061|\n",
      "|8237|United States| USA|1961|           13.708283|\n",
      "|8238|United States| USA|1962|           13.872615|\n",
      "|8239|United States| USA|1963|            14.04459|\n",
      "+----+-------------+----+----+--------------------+\n",
      "\n"
     ]
    }
   ],
   "source": [
    "df.show()"
   ]
  },
  {
   "cell_type": "code",
   "execution_count": 36,
   "id": "01307a06-7f6a-4840-80bc-4b18823ce3f7",
   "metadata": {},
   "outputs": [],
   "source": [
    "df1 = spark.read.option('header','true').csv(\"C:\\\\Users\\\\Shree123\\\\MACHINE LEARNING PROJECT TYCS\\\\Consumer_Price_Index.csv\")"
   ]
  },
  {
   "cell_type": "code",
   "execution_count": 37,
   "id": "803370e9-198b-4027-a8f7-20057e6554a8",
   "metadata": {},
   "outputs": [
    {
     "name": "stdout",
     "output_type": "stream",
     "text": [
      "+----+-------------+----+----+---------------------------------+\n",
      "|  id|       Entity|Code|Year|Consumer price index (2010 = 100)|\n",
      "+----+-------------+----+----+---------------------------------+\n",
      "|8236|United States| USA|1960|                        13.563061|\n",
      "|8237|United States| USA|1961|                        13.708283|\n",
      "|8238|United States| USA|1962|                        13.872615|\n",
      "|8239|United States| USA|1963|                         14.04459|\n",
      "+----+-------------+----+----+---------------------------------+\n",
      "\n"
     ]
    }
   ],
   "source": [
    "df1.show()"
   ]
  },
  {
   "cell_type": "code",
   "execution_count": 38,
   "id": "77fece6e-8dec-42db-b49b-336f6d492413",
   "metadata": {},
   "outputs": [
    {
     "data": {
      "text/plain": [
       "pyspark.sql.dataframe.DataFrame"
      ]
     },
     "execution_count": 38,
     "metadata": {},
     "output_type": "execute_result"
    }
   ],
   "source": [
    "type(df1)"
   ]
  },
  {
   "cell_type": "code",
   "execution_count": 39,
   "id": "e9fbc3aa-69f5-4e31-9034-e24de0d707f8",
   "metadata": {},
   "outputs": [
    {
     "name": "stdout",
     "output_type": "stream",
     "text": [
      "root\n",
      " |-- id: string (nullable = true)\n",
      " |-- Entity: string (nullable = true)\n",
      " |-- Code: string (nullable = true)\n",
      " |-- Year: string (nullable = true)\n",
      " |-- Consumer price index (2010 = 100): string (nullable = true)\n",
      "\n"
     ]
    }
   ],
   "source": [
    "# To print the Datatypes of each feature.\n",
    "df1.printSchema()"
   ]
  },
  {
   "cell_type": "code",
   "execution_count": 40,
   "id": "212d79ab-d69f-4f02-8eb9-cba3af92f4de",
   "metadata": {},
   "outputs": [],
   "source": [
    "# inferSchema - aligns the datatypes"
   ]
  },
  {
   "cell_type": "code",
   "execution_count": 41,
   "id": "ad2615b3-b772-47d9-bd9e-1788c53dc686",
   "metadata": {},
   "outputs": [],
   "source": [
    "# To align datatypes with the dataset\n",
    "df2 = spark.read.option('header','true').csv(\"C:\\\\Users\\\\Shree123\\\\MACHINE LEARNING PROJECT TYCS\\\\Consumer_Price_Index.csv\" , inferSchema = True)\n",
    "df3 = spark.read.csv( \"C:\\\\Users\\\\Shree123\\\\MACHINE LEARNING PROJECT TYCS\\\\Consumer_Price_Index.csv\" , header = True , inferSchema = True)"
   ]
  },
  {
   "cell_type": "code",
   "execution_count": 42,
   "id": "7fb4d612-6f16-4f23-a0dd-52ac33e5ad82",
   "metadata": {},
   "outputs": [
    {
     "name": "stdout",
     "output_type": "stream",
     "text": [
      "root\n",
      " |-- id: integer (nullable = true)\n",
      " |-- Entity: string (nullable = true)\n",
      " |-- Code: string (nullable = true)\n",
      " |-- Year: integer (nullable = true)\n",
      " |-- Consumer price index (2010 = 100): double (nullable = true)\n",
      "\n",
      "root\n",
      " |-- id: integer (nullable = true)\n",
      " |-- Entity: string (nullable = true)\n",
      " |-- Code: string (nullable = true)\n",
      " |-- Year: integer (nullable = true)\n",
      " |-- Consumer price index (2010 = 100): double (nullable = true)\n",
      "\n"
     ]
    }
   ],
   "source": [
    "df2.printSchema()\n",
    "df3.printSchema()"
   ]
  },
  {
   "cell_type": "code",
   "execution_count": 43,
   "id": "e3cebe32-b24e-47ac-aa44-fdf318cd8aa0",
   "metadata": {},
   "outputs": [
    {
     "data": {
      "text/plain": [
       "[Row(id=8236, Entity='United States', Code='USA', Year=1960, Consumer price index (2010 = 100)=13.563061),\n",
       " Row(id=8237, Entity='United States', Code='USA', Year=1961, Consumer price index (2010 = 100)=13.708283)]"
      ]
     },
     "execution_count": 43,
     "metadata": {},
     "output_type": "execute_result"
    }
   ],
   "source": [
    "# first 2 rows\n",
    "df3.head(2)"
   ]
  },
  {
   "cell_type": "code",
   "execution_count": 44,
   "id": "934f492f-e1b0-4666-900f-8b8cf3638c21",
   "metadata": {},
   "outputs": [
    {
     "name": "stdout",
     "output_type": "stream",
     "text": [
      "+----+\n",
      "|  id|\n",
      "+----+\n",
      "|8236|\n",
      "|8237|\n",
      "|8238|\n",
      "|8239|\n",
      "+----+\n",
      "\n"
     ]
    }
   ],
   "source": [
    "# Indexing in spark - Single Column\n",
    "df3.select('id').show()"
   ]
  },
  {
   "cell_type": "code",
   "execution_count": 45,
   "id": "7148aef3-8ff7-40df-9c64-21e1fe8a6d46",
   "metadata": {},
   "outputs": [
    {
     "name": "stdout",
     "output_type": "stream",
     "text": [
      "+----+----+----+\n",
      "|  id|Code|Year|\n",
      "+----+----+----+\n",
      "|8236| USA|1960|\n",
      "|8237| USA|1961|\n",
      "|8238| USA|1962|\n",
      "|8239| USA|1963|\n",
      "+----+----+----+\n",
      "\n"
     ]
    }
   ],
   "source": [
    "# Multiple Columns\n",
    "df3.select(['id', 'Code' , 'Year']).show()"
   ]
  },
  {
   "cell_type": "code",
   "execution_count": 46,
   "id": "429b226d-b180-46e0-8d71-e071781c8c3d",
   "metadata": {},
   "outputs": [
    {
     "name": "stdout",
     "output_type": "stream",
     "text": [
      "+-------+------------------+-------------+----+------------------+---------------------------------+\n",
      "|summary|                id|       Entity|Code|              Year|Consumer price index (2010 = 100)|\n",
      "+-------+------------------+-------------+----+------------------+---------------------------------+\n",
      "|  count|                 4|            4|   4|                 4|                                4|\n",
      "|   mean|            8237.5|         NULL|NULL|            1961.5|               13.797137249999999|\n",
      "| stddev|1.2909944487358056|         NULL|NULL|1.2909944487358056|              0.20785934570020317|\n",
      "|    min|              8236|United States| USA|              1960|                        13.563061|\n",
      "|    max|              8239|United States| USA|              1963|                         14.04459|\n",
      "+-------+------------------+-------------+----+------------------+---------------------------------+\n",
      "\n"
     ]
    }
   ],
   "source": [
    "#To display summary statistics\n",
    "df3.describe().show()"
   ]
  },
  {
   "cell_type": "code",
   "execution_count": 47,
   "id": "c8d0ce78-7f60-4d5b-93b7-43c692c214a1",
   "metadata": {},
   "outputs": [],
   "source": [
    "# Adding columns in the df - withColumn()"
   ]
  },
  {
   "cell_type": "code",
   "execution_count": 48,
   "id": "f757aee6-553d-4285-be02-052fcda303f4",
   "metadata": {},
   "outputs": [],
   "source": [
    "import numpy as np"
   ]
  },
  {
   "cell_type": "code",
   "execution_count": 49,
   "id": "870cf793-4f2d-42db-8cc1-76e10736ac71",
   "metadata": {},
   "outputs": [],
   "source": [
    "# CPI after 2 years\n",
    "df3 = df3.withColumn('CPI_after_2_years', df3['Consumer price index (2010 = 100)']*df3['Year']/1000)"
   ]
  },
  {
   "cell_type": "code",
   "execution_count": 50,
   "id": "55830e33-a58b-44dd-a234-9834b1acbdef",
   "metadata": {},
   "outputs": [
    {
     "name": "stdout",
     "output_type": "stream",
     "text": [
      "+----+-------------+----+----+---------------------------------+------------------+\n",
      "|  id|       Entity|Code|Year|Consumer price index (2010 = 100)| CPI_after_2_years|\n",
      "+----+-------------+----+----+---------------------------------+------------------+\n",
      "|8236|United States| USA|1960|                        13.563061|       26.58359956|\n",
      "|8237|United States| USA|1961|                        13.708283|      26.881942963|\n",
      "|8238|United States| USA|1962|                        13.872615|       27.21807063|\n",
      "|8239|United States| USA|1963|                         14.04459|27.569530169999997|\n",
      "+----+-------------+----+----+---------------------------------+------------------+\n",
      "\n"
     ]
    }
   ],
   "source": [
    "df3.show()"
   ]
  },
  {
   "cell_type": "code",
   "execution_count": 51,
   "id": "cb0f35cc-9fa1-425e-ab37-8911533363f3",
   "metadata": {},
   "outputs": [
    {
     "data": {
      "text/plain": [
       "DataFrame[id: int, Entity: string, Code: string, Year: int, Consumer price index (2010 = 100): double]"
      ]
     },
     "execution_count": 51,
     "metadata": {},
     "output_type": "execute_result"
    }
   ],
   "source": [
    "# Dropping the Column\n",
    "df3 = df3.drop('CPI_after_2_years')\n",
    "df3"
   ]
  },
  {
   "cell_type": "code",
   "execution_count": 66,
   "id": "b891d07d-0d76-4a01-984a-aa2d7c14c600",
   "metadata": {},
   "outputs": [],
   "source": [
    "df1 = spark.read.csv(\"C:\\\\Users\\\\Shree123\\\\MACHINE LEARNING PROJECT TYCS\\\\Unemployment_Ratio.csv\" , header = True , inferSchema = True)"
   ]
  },
  {
   "cell_type": "code",
   "execution_count": 67,
   "id": "bf8e23fe-c3e0-4bf5-ab2f-1a438ffcf8f2",
   "metadata": {},
   "outputs": [
    {
     "name": "stdout",
     "output_type": "stream",
     "text": [
      "+----+-------------+----+----+-------------------------------------------------------------------+\n",
      "| _c0|       Entity|Code|Year|Unemployment, total (% of total labor force) (modeled ILO estimate)|\n",
      "+----+-------------+----+----+-------------------------------------------------------------------+\n",
      "|5859|United States| USA|1991|                                                                6.8|\n",
      "|5860|United States| USA|1992|                                                                7.5|\n",
      "|5861|United States| USA|1993|                                                                6.9|\n",
      "|5862|United States| USA|1994|                                                               6.12|\n",
      "|5863|United States|NULL|NULL|                                                                5.5|\n",
      "|5864|United States| USA|1996|                                                               NULL|\n",
      "|5865|United States| USA|1997|                                                               NULL|\n",
      "|5866|United States| USA|1998|                                                                5.9|\n",
      "|5867|United States|  US|1999|                                                                7.0|\n",
      "+----+-------------+----+----+-------------------------------------------------------------------+\n",
      "\n"
     ]
    }
   ],
   "source": [
    "df1.show()"
   ]
  },
  {
   "cell_type": "code",
   "execution_count": 68,
   "id": "cd0dea00-6240-45e1-9be1-b8f82da25bdb",
   "metadata": {},
   "outputs": [
    {
     "name": "stdout",
     "output_type": "stream",
     "text": [
      "+----+-------------+----+----+-------------------------------------------------------------------+\n",
      "| _c0|       Entity|Code|Year|Unemployment, total (% of total labor force) (modeled ILO estimate)|\n",
      "+----+-------------+----+----+-------------------------------------------------------------------+\n",
      "|5859|United States| USA|1991|                                                                6.8|\n",
      "|5860|United States| USA|1992|                                                                7.5|\n",
      "|5861|United States| USA|1993|                                                                6.9|\n",
      "|5862|United States| USA|1994|                                                               6.12|\n",
      "|5866|United States| USA|1998|                                                                5.9|\n",
      "|5867|United States|  US|1999|                                                                7.0|\n",
      "+----+-------------+----+----+-------------------------------------------------------------------+\n",
      "\n"
     ]
    }
   ],
   "source": [
    "# Dropping Null values\n",
    "df1.na.drop().show()"
   ]
  },
  {
   "cell_type": "code",
   "execution_count": 57,
   "id": "dcecdb3c-f03a-434e-bddb-90cf8fe643d9",
   "metadata": {},
   "outputs": [],
   "source": [
    "# how in drop // any - drops everything in the row , all - only if all the values are null"
   ]
  },
  {
   "cell_type": "code",
   "execution_count": 81,
   "id": "f9f853d3-ae94-4d7f-8f8d-b9e0473ce704",
   "metadata": {},
   "outputs": [
    {
     "name": "stdout",
     "output_type": "stream",
     "text": [
      "+----+-------------+----+----+-------------------------------------------------------------------+\n",
      "| _c0|       Entity|Code|Year|Unemployment, total (% of total labor force) (modeled ILO estimate)|\n",
      "+----+-------------+----+----+-------------------------------------------------------------------+\n",
      "|5859|United States| USA|1991|                                                                6.8|\n",
      "|5860|United States| USA|1992|                                                                7.5|\n",
      "|5861|United States| USA|1993|                                                                6.9|\n",
      "|5862|United States| USA|1994|                                                               6.12|\n",
      "|5866|United States| USA|1998|                                                                5.9|\n",
      "|5867|United States|  US|1999|                                                                7.0|\n",
      "+----+-------------+----+----+-------------------------------------------------------------------+\n",
      "\n",
      "\n",
      "\n",
      "+----+-------------+----+----+-------------------------------------------------------------------+\n",
      "| _c0|       Entity|Code|Year|Unemployment, total (% of total labor force) (modeled ILO estimate)|\n",
      "+----+-------------+----+----+-------------------------------------------------------------------+\n",
      "|5859|United States| USA|1991|                                                                6.8|\n",
      "|5860|United States| USA|1992|                                                                7.5|\n",
      "|5861|United States| USA|1993|                                                                6.9|\n",
      "|5862|United States| USA|1994|                                                               6.12|\n",
      "|5863|United States|NULL|NULL|                                                                5.5|\n",
      "|5864|United States| USA|1996|                                                               NULL|\n",
      "|5865|United States| USA|1997|                                                               NULL|\n",
      "|5866|United States| USA|1998|                                                                5.9|\n",
      "|5867|United States|  US|1999|                                                                7.0|\n",
      "+----+-------------+----+----+-------------------------------------------------------------------+\n",
      "\n"
     ]
    }
   ],
   "source": [
    "df.na.drop(how = 'any').show()\n",
    "print('\\n')\n",
    "df.na.drop(how = 'all').show()"
   ]
  },
  {
   "cell_type": "code",
   "execution_count": 79,
   "id": "08dc2c5f-add2-4562-b747-26aad7de5ea9",
   "metadata": {},
   "outputs": [
    {
     "name": "stdout",
     "output_type": "stream",
     "text": [
      "+----+-------------+----+----+-------------------------------------------------------------------+\n",
      "| _c0|       Entity|Code|Year|Unemployment, total (% of total labor force) (modeled ILO estimate)|\n",
      "+----+-------------+----+----+-------------------------------------------------------------------+\n",
      "|5859|United States| USA|1991|                                                                6.8|\n",
      "|5860|United States| USA|1992|                                                                7.5|\n",
      "|5861|United States| USA|1993|                                                                6.9|\n",
      "|5862|United States| USA|1994|                                                               6.12|\n",
      "|5863|United States|NULL|NULL|                                                                5.5|\n",
      "|5864|United States| USA|1996|                                                               NULL|\n",
      "|5865|United States| USA|1997|                                                               NULL|\n",
      "|5866|United States| USA|1998|                                                                5.9|\n",
      "|5867|United States|  US|1999|                                                                7.0|\n",
      "+----+-------------+----+----+-------------------------------------------------------------------+\n",
      "\n"
     ]
    }
   ],
   "source": [
    "# thresh - If a row has more than threshold null then it is dropped\n",
    "df1.na.drop(thresh = 2 , how = 'any').show()"
   ]
  },
  {
   "cell_type": "code",
   "execution_count": 83,
   "id": "c97e5a41-bda1-434d-af37-8968532e1daf",
   "metadata": {},
   "outputs": [
    {
     "name": "stdout",
     "output_type": "stream",
     "text": [
      "+----+-------------+----+----+-------------------------------------------------------------------+\n",
      "| _c0|       Entity|Code|Year|Unemployment, total (% of total labor force) (modeled ILO estimate)|\n",
      "+----+-------------+----+----+-------------------------------------------------------------------+\n",
      "|5859|United States| USA|1991|                                                                6.8|\n",
      "|5860|United States| USA|1992|                                                                7.5|\n",
      "|5861|United States| USA|1993|                                                                6.9|\n",
      "|5862|United States| USA|1994|                                                               6.12|\n",
      "|5864|United States| USA|1996|                                                               NULL|\n",
      "|5865|United States| USA|1997|                                                               NULL|\n",
      "|5866|United States| USA|1998|                                                                5.9|\n",
      "|5867|United States|  US|1999|                                                                7.0|\n",
      "+----+-------------+----+----+-------------------------------------------------------------------+\n",
      "\n"
     ]
    }
   ],
   "source": [
    "# Subset\n",
    "df.na.drop(how = 'all', subset = ['Year']).show()"
   ]
  },
  {
   "cell_type": "code",
   "execution_count": 90,
   "id": "4b9b4726-8ba5-4bc1-bc78-aa44747100d5",
   "metadata": {},
   "outputs": [
    {
     "name": "stdout",
     "output_type": "stream",
     "text": [
      "+----+-------------+----+----+-----------------+\n",
      "| _c0|       Entity|Code|Year|Unemployment_Rate|\n",
      "+----+-------------+----+----+-----------------+\n",
      "|5859|United States| USA|1991|              6.8|\n",
      "|5860|United States| USA|1992|              7.5|\n",
      "|5861|United States| USA|1993|              6.9|\n",
      "|5862|United States| USA|1994|             6.12|\n",
      "|5863|United States|NULL|NULL|              5.5|\n",
      "|5864|United States| USA|1996|             NULL|\n",
      "|5865|United States| USA|1997|             NULL|\n",
      "|5866|United States| USA|1998|              5.9|\n",
      "|5867|United States|  US|1999|              7.0|\n",
      "+----+-------------+----+----+-----------------+\n",
      "\n"
     ]
    }
   ],
   "source": [
    "df = df.withColumnRenamed('Unemployment, total (% of total labor force) (modeled ILO estimate)','Unemployment_Rate')\n",
    "df.show()"
   ]
  },
  {
   "cell_type": "code",
   "execution_count": 139,
   "id": "f83aad54-d2ff-4261-a5ac-82ee209bfa43",
   "metadata": {},
   "outputs": [],
   "source": [
    "# Task - Handle Missing values for categories and Numeric Columns and then fit_transform and also create unique indexes for the Code category."
   ]
  },
  {
   "cell_type": "code",
   "execution_count": 159,
   "id": "80f2f69d-2d73-4780-895f-8e585ada8a3e",
   "metadata": {},
   "outputs": [],
   "source": [
    "from pyspark.sql.functions import when, col\n",
    "from pyspark.ml.feature import Imputer, StringIndexer\n",
    "from pyspark.ml import Pipeline"
   ]
  },
  {
   "cell_type": "code",
   "execution_count": 143,
   "id": "c58abedd-dbc3-472f-b35e-ec9ea2bd8c41",
   "metadata": {},
   "outputs": [],
   "source": [
    "df = df.drop('New_Code')"
   ]
  },
  {
   "cell_type": "code",
   "execution_count": 163,
   "id": "10fe461d-057c-4674-b945-58d9f1ca07c8",
   "metadata": {},
   "outputs": [
    {
     "name": "stdout",
     "output_type": "stream",
     "text": [
      "Most frequent Value: USA \n",
      "\n",
      "--------------------\n",
      "Before and After\n",
      "+-----------+--------+\n",
      "|       Code|new_Code|\n",
      "+-----------+--------+\n",
      "|        USA|     USA|\n",
      "|        USA|     USA|\n",
      "|        USA|     USA|\n",
      "|        USA|     USA|\n",
      "|placeholder|     USA|\n",
      "|        USA|     USA|\n",
      "|        USA|     USA|\n",
      "|        USA|     USA|\n",
      "|         US|      US|\n",
      "+-----------+--------+\n",
      "\n",
      "+-------------+-----------+----+-----------------+-------------------------+--------+\n",
      "|       Entity|       Code|Year|Unemployment_Rate|Unemployment_Rate_Imputed|new_Code|\n",
      "+-------------+-----------+----+-----------------+-------------------------+--------+\n",
      "|United States|        USA|1991|              6.8|                      6.8|     USA|\n",
      "|United States|        USA|1992|              7.5|                      7.5|     USA|\n",
      "|United States|        USA|1993|              6.9|                      6.9|     USA|\n",
      "|United States|        USA|1994|             6.12|                     6.12|     USA|\n",
      "|United States|placeholder|NULL|              5.5|                      5.5|     USA|\n",
      "|United States|        USA|1996|             NULL|        6.531428571428572|     USA|\n",
      "|United States|        USA|1997|             NULL|        6.531428571428572|     USA|\n",
      "|United States|        USA|1998|              5.9|                      5.9|     USA|\n",
      "|United States|         US|1999|              7.0|                      7.0|      US|\n",
      "+-------------+-----------+----+-----------------+-------------------------+--------+\n",
      "\n",
      "--------------------\n",
      "After Indexing and Imputing\n",
      "+-------------+-----------+----+-----------------+-------------------------+--------+-----------+\n",
      "|       Entity|       Code|Year|Unemployment_Rate|Unemployment_Rate_imputed|new_Code|Mapped_Code|\n",
      "+-------------+-----------+----+-----------------+-------------------------+--------+-----------+\n",
      "|United States|        USA|1991|              6.8|                      6.8|     USA|        0.0|\n",
      "|United States|        USA|1992|              7.5|                      7.5|     USA|        0.0|\n",
      "|United States|        USA|1993|              6.9|                      6.9|     USA|        0.0|\n",
      "|United States|        USA|1994|             6.12|                     6.12|     USA|        0.0|\n",
      "|United States|placeholder|NULL|              5.5|                      5.5|     USA|        2.0|\n",
      "|United States|        USA|1996|             NULL|        6.531428571428572|     USA|        0.0|\n",
      "|United States|        USA|1997|             NULL|        6.531428571428572|     USA|        0.0|\n",
      "|United States|        USA|1998|              5.9|                      5.9|     USA|        0.0|\n",
      "|United States|         US|1999|              7.0|                      7.0|      US|        1.0|\n",
      "+-------------+-----------+----+-----------------+-------------------------+--------+-----------+\n",
      "\n"
     ]
    }
   ],
   "source": [
    "placeholder = 'placeholder'\n",
    "df = df.na.fill(placeholder , subset = ['Code'])\n",
    "most_frequent = df.groupBy('Code').count().orderBy('count' , ascending = False).first()[0]\n",
    "print('Most frequent Value:' , most_frequent , '\\n')\n",
    "print('-'*20)\n",
    "# Replace placeholder with the most frequent.\n",
    "new_df = df.withColumn('new_Code',when(col('Code') == placeholder , most_frequent).otherwise(col('Code')))\n",
    "print('Before and After')\n",
    "new_df.select(['Code','new_Code']).show()\n",
    "new_df.show()\n",
    "print('-'*20)\n",
    "# Imputer\n",
    "imputer = Imputer(\n",
    "    inputCols = ['Unemployment_Rate'],\n",
    "    outputCols = ['{}_imputed'.format(c) for c in ['Unemployment_Rate']]\n",
    "    ).setStrategy('mean')\n",
    "# Indexer for the Code feature\n",
    "indexer = StringIndexer(inputCols = ['Code'] , outputCols = ['Mapped_Code'] , handleInvalid = 'keep')\n",
    "# Create a pipeline to fit both the transformations\n",
    "pipeline = Pipeline(stages = [imputer] + [indexer])\n",
    "# fit and transform\n",
    "model = pipeline.fit(new_df)\n",
    "transformed_df = model.transform(new_df)\n",
    "print('After Indexing and Imputing')\n",
    "transformed_df.show()"
   ]
  },
  {
   "cell_type": "code",
   "execution_count": null,
   "id": "3d9f4d73-4edd-4ea9-a9ed-ea7e1e5cbf45",
   "metadata": {},
   "outputs": [],
   "source": []
  }
 ],
 "metadata": {
  "kernelspec": {
   "display_name": "Python 3 (ipykernel)",
   "language": "python",
   "name": "python3"
  },
  "language_info": {
   "codemirror_mode": {
    "name": "ipython",
    "version": 3
   },
   "file_extension": ".py",
   "mimetype": "text/x-python",
   "name": "python",
   "nbconvert_exporter": "python",
   "pygments_lexer": "ipython3",
   "version": "3.9.18"
  }
 },
 "nbformat": 4,
 "nbformat_minor": 5
}
